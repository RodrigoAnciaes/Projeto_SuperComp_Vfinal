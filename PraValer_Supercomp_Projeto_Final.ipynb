{
  "cells": [
    {
      "cell_type": "markdown",
      "metadata": {
        "id": "Nyjpc-Fg5r1R"
      },
      "source": [
        "# Sobre o projeto"
      ]
    },
    {
      "cell_type": "markdown",
      "metadata": {
        "id": "fnQ_eyNE56vp"
      },
      "source": [
        "Este projeto tem como objetivo a implementação de diversas soluções para o problema VRP.\n",
        "\n",
        "Para executá-lo:\n",
        "1. Vá para a sessão de geração de instancias do problema para gerar arquivos de grafos com o tamanho e probabilidade que desejar\n",
        "\n",
        "2. O projeto está dividido em diferentes sessões com o nome de cada implamentação, érecomentado seguir a ordem do notebook, as instruções de execução se encontram na primeira iplementação (a global) e são as mesmas para todas a implementações, atenção somente aos nomes dos arquivos."
      ]
    },
    {
      "cell_type": "markdown",
      "metadata": {
        "id": "-SosyOC-54qb"
      },
      "source": []
    },
    {
      "cell_type": "markdown",
      "metadata": {
        "id": "9eVG_JkC4bEc"
      },
      "source": [
        "# Projeto SuperComputação 2024.1 (Enunciado)"
      ]
    },
    {
      "cell_type": "markdown",
      "metadata": {
        "id": "_RogNPH3CUzH"
      },
      "source": [
        "## Otimização de Rotas de Veículos (_Vehicle Routing Problem_ - VRP)\n",
        "\n",
        "**Objetivo:**\n",
        "\n",
        "Desenvolver uma aplicação em C++ que otimize as rotas de uma frota de veículos destinados à entrega de produtos a diversos clientes, buscando minimizar o custo total das rotas.\n",
        "\n",
        "\n",
        "**Descrição:**\n",
        "\n",
        "Você está encarregado de criar uma solução computacional para o problema de Otimização de Rotas de Veículos (VRP) para uma empresa de logística. A empresa possui uma frota de veículos que são usados para entregar produtos a uma série de clientes. Cada veículo tem uma capacidade de carga máxima, e cada cliente tem uma demanda específica que deve ser atendida. O objetivo é determinar as rotas ótimas para os veículos, de forma que todos os clientes sejam atendidos, respeitando as restrições de capacidade dos veículos, e minimizando o custo total das entregas.\n",
        "\n",
        "\n",
        "**Restrições e Requisitos:**\n",
        "1. **Capacidade dos Veículos:** Cada veículo tem uma capacidade máxima de carga que não pode ser excedida.\n",
        "2. **Demanda dos Clientes:** Cada cliente tem uma demanda específica que deve ser completamente atendida por um único veículo.\n",
        "3. **Custo da Rota:** Cada rota possui um custo, que simboliza o cômputo agregado da distância percorrida, do tempo de entrega, e do consumo de combustível. O objetivo é minimizar o custo total.\n",
        "4. **Número máximo de visitas por rota:** Cada rota pode visitar um número máximo de cidades.\n",
        "5. **Ponto de Partida e Chegada:** Todos os veículos começam e terminam suas rotas no depósito da empresa.\n",
        "\n",
        "\n",
        "**Desafios Computacionais:**\n",
        "\n",
        "- O VRP é um problema NP-difícil, o que significa que sua complexidade computacional cresce exponencialmente com o aumento do número de clientes e veículos.\n",
        "- A busca exaustiva por todas as possíveis combinações de rotas torna-se impraticável para instâncias maiores do problema.\n",
        "\n",
        "\n",
        "**Composição da Solução:**\n",
        "1. Implementação de um algoritmo de _busca global_ para o problema (força bruta);\n",
        "2. Implementação de alguma solução aproximada (_heurística_ ou _busca local_);\n",
        "3. Implementação de 2 soluções paralelizadas, sendo:\n",
        "\n",
        "  a. _Paralelização com Threads OpenMP_: Utilizar threads e a biblioteca OpenMP para paralelizar o algoritmo desenvolvido, com o objetivo de reduzir o tempo de execução. Analisar e implementar a paralelização de componentes do algoritmo que possam se beneficiar da execução concorrente, como a geração de soluções iniciais ou a busca local.\n",
        "\n",
        "  b. _Paralelização e Distribuição do Processamento com MPI_: Implementar uma versão do algoritmo que utilize a interface de passagem de mensagens MPI para distribuir o processo de busca de soluções em múltiplos processos, possivelmente executando em diferentes nós de um cluster. A estratégia deve permitir a exploração paralela do espaço de soluções e a troca eficiente de informações entre os processos.\n",
        "\n",
        "\n",
        "\n",
        "**Entregáveis:**\n",
        "\n",
        "1. **Código Fonte:** Código fonte em C++ comentado e organizado.\n",
        "2. **Relatório:** Um relatório descrevendo a abordagem utilizada, incluindo descrição das heurísticas e métodos de busca local, bem como as estratégias de paralelização adotadas.\n",
        "3. **Análise de Desempenho:** Uma análise de desempenho da solução proposta, incluindo tempos de execução e qualidade das soluções encontradas, com base em instâncias de teste de diferentes tamanhos.\n",
        "4. **Instruções de Uso:** Breve documentação sobre como compilar e executar a aplicação, incluindo exemplos de uso.\n",
        "\n",
        "\n",
        "**DICA**:\n",
        "Não deixe de estudar os exemplos deste link https://vrpy.readthedocs.io/en/master/examples.html, para entender como gerar a avaliar soluções para o problema. Compare sua solução com a solução desta biblioteca!"
      ]
    },
    {
      "cell_type": "markdown",
      "metadata": {
        "id": "LKBT7FdpGXv5"
      },
      "source": [
        "# GERAÇÃO DE INSTÂNCIAS DO PROBLEMA\n",
        "\n",
        "Execute o código abaixo algumas vezes gerando instâncias de tamanhos e complexidades distintas. Você deve experimentar alterações de:\n",
        "- **num_nos**: número de cidades a serem visitados;\n",
        "- **probabilidade**: a probabilidade de ser criada uma rota direta entre 2 cidades;\n"
      ]
    },
    {
      "cell_type": "code",
      "execution_count": 1,
      "metadata": {
        "id": "jo54M0TVqJjV"
      },
      "outputs": [],
      "source": [
        "import random\n",
        "# from networkx import set_node_attributes\n",
        "\n",
        "def gerar_dicionario_demandas(N):\n",
        "    \"\"\"\n",
        "    Gera um dicionário onde a chave é um int de 1 até N e o valor é um inteiro aleatório de 1 até 10.\n",
        "\n",
        "    :param N: Número máximo para as chaves do dicionário.\n",
        "    :return: Dicionário com chaves de 1 até N e valores inteiros aleatórios de 1 até 10.\n",
        "    \"\"\"\n",
        "    return {i: random.randint(1, 10) for i in range(1, N)}\n",
        "\n",
        "\n",
        "def gerar_entradas_grafo(num_nos, max_peso=100, probabilidade=0.125):\n",
        "    \"\"\"\n",
        "    Gera um grafo para o problema de otimização de rotas de veículos.\n",
        "\n",
        "    :param num_nos: Número de nós no grafo, incluindo o depósito.\n",
        "    :param max_peso: Peso máximo para as arestas do grafo.\n",
        "    :param probabilidade: Probabilidade de criar uma rota entre duas cidades.\n",
        "    :return: Um dicionário representando o grafo onde as chaves são tuplas representando as arestas (nó1, nó2)\n",
        "             e os valores são os pesos dessas arestas.\n",
        "    \"\"\"\n",
        "    grafo = {}\n",
        "    # Gerar pesos para arestas entre o depósito e outros nós\n",
        "    for i in range(1, num_nos):\n",
        "        grafo[(0, i)] = random.randint(1, max_peso)\n",
        "        grafo[(i, 0)] = grafo[(0, i)]  # Assume que a distância de volta ao depósito é a mesma\n",
        "\n",
        "    # Gerar pesos para arestas entre todos os outros pares de nós\n",
        "    for i in range(1, num_nos):\n",
        "        for j in range(i+1, num_nos):\n",
        "            if random.random() > (1 - probabilidade):  # Verifica a probabilidade\n",
        "                peso = random.randint(1, max_peso)\n",
        "                grafo[(i, j)] = peso\n",
        "\n",
        "    return grafo\n",
        "\n",
        "############################################\n",
        "#             Exemplo de uso\n",
        "############################################\n",
        "num_nos = 1000                                   # Número total de nós incluindo o depósito\n",
        "probabilidade = 0.125                           # Probabilidade de criar uma rota entre duas cidades\n",
        "nome_arquivo = \"grafo_\"+str(num_nos)+\"_\"+str(probabilidade)+\".txt\"  # Nome do arquivo onde será salvo o grafo\n",
        "\n",
        "def generator(num_nos, probabilidade, nome_arquivo):\n",
        "\n",
        "    demandas = gerar_dicionario_demandas(num_nos)  # Gera as demandas para cada nó\n",
        "    grafo = gerar_entradas_grafo(num_nos, probabilidade=probabilidade)          # Gera o grafo que representa os locais e custos entre eles\n",
        "\n",
        "    # Salva o grafo em um arquivo TXT\n",
        "    with open(nome_arquivo, 'w') as arquivo:\n",
        "        arquivo.write(str(num_nos) + \"\\n\")    # Número de nós, incluindo depósito\n",
        "        for local, demanda in demandas.items():\n",
        "            linha = f\"{local} {demanda}\\n\"      # Par LOCAL DEMANDA\n",
        "            arquivo.write(linha)\n",
        "\n",
        "        arquivo.write(str(len(grafo)) + \"\\n\") # Número de arestas\n",
        "        for aresta, peso in grafo.items():\n",
        "            linha = f\"{aresta[0]} {aresta[1]} {peso}\\n\" # Trio: ORIGEM DESTINO CUSTO\n",
        "            arquivo.write(linha)\n",
        "\n",
        "        print(f\"Grafo salvo em {nome_arquivo}\")\n"
      ]
    },
    {
      "cell_type": "code",
      "execution_count": 6,
      "metadata": {
        "colab": {
          "base_uri": "https://localhost:8080/"
        },
        "id": "lNExVJfgnfZj",
        "outputId": "a22a9aea-bcc8-4d11-cd61-7dfa73963691"
      },
      "outputs": [
        {
          "name": "stdout",
          "output_type": "stream",
          "text": [
            "Grafo salvo em grafo_10_0.125.txt\n"
          ]
        }
      ],
      "source": [
        "num_nos = 10                                   # Número total de nós incluindo o depósito\n",
        "probabilidade = 0.125                           # Probabilidade de criar uma rota entre duas cidades\n",
        "nome_arquivo = \"grafo_\"+str(num_nos)+\"_\"+str(probabilidade)+\".txt\"  # Nome do arquivo onde será salvo o grafo\n",
        "\n",
        "generator(num_nos, probabilidade, nome_arquivo)"
      ]
    },
    {
      "cell_type": "markdown",
      "metadata": {
        "id": "CqegkP6mGomB"
      },
      "source": [
        "# GERAÇÃO DE SOLUÇÕES (testes de validação com VRPy) (se desejar validar)\n",
        "\n",
        "Instale a biblioteca [VRPy](https://vrpy.readthedocs.io/en/latest/getting_started.html) para resolver problemas de otimização de rotas.\n",
        "\n",
        "Para cada instância do problema gerada, execute este código para gerar a solução esperada.\n",
        "\n",
        "Não deixe de estudar a documentação da biblioteca! Especialmente este link: https://vrpy.readthedocs.io/en/latest/examples.html#a-simple-example\n",
        "\n",
        "Aqui você pode gerar soluções diferentes alterando:\n",
        "- **load_capacity**: a quantidade e capacidade de veículos;\n",
        "- **num_stops**: o número máximo de paradas numa rota;"
      ]
    },
    {
      "cell_type": "code",
      "execution_count": null,
      "metadata": {
        "colab": {
          "base_uri": "https://localhost:8080/"
        },
        "id": "Ptsf2dRfp547",
        "outputId": "9b7c1071-6faf-412d-def6-5fa2787b2f69"
      },
      "outputs": [
        {
          "name": "stdout",
          "output_type": "stream",
          "text": [
            "Collecting vrpy\n",
            "  Downloading vrpy-0.5.1.tar.gz (139 kB)\n",
            "\u001b[?25l     \u001b[90m━━━━━━━━━━━━━━━━━━━━━━━━━━━━━━━━━━━━━━━━\u001b[0m \u001b[32m0.0/140.0 kB\u001b[0m \u001b[31m?\u001b[0m eta \u001b[36m-:--:--\u001b[0m\r\u001b[2K     \u001b[91m━━━━━━━━\u001b[0m\u001b[91m╸\u001b[0m\u001b[90m━━━━━━━━━━━━━━━━━━━━━━━━━━━━━━━\u001b[0m \u001b[32m30.7/140.0 kB\u001b[0m \u001b[31m750.0 kB/s\u001b[0m eta \u001b[36m0:00:01\u001b[0m\r\u001b[2K     \u001b[91m━━━━━━━━━━━━━━━━━━━━━━━━━━\u001b[0m\u001b[90m╺\u001b[0m\u001b[90m━━━━━━━━━━━━━\u001b[0m \u001b[32m92.2/140.0 kB\u001b[0m \u001b[31m1.2 MB/s\u001b[0m eta \u001b[36m0:00:01\u001b[0m\r\u001b[2K     \u001b[90m━━━━━━━━━━━━━━━━━━━━━━━━━━━━━━━━━━━━━━━━\u001b[0m \u001b[32m140.0/140.0 kB\u001b[0m \u001b[31m1.5 MB/s\u001b[0m eta \u001b[36m0:00:00\u001b[0m\n",
            "\u001b[?25h  Preparing metadata (setup.py) ... \u001b[?25l\u001b[?25hdone\n",
            "Collecting cspy (from vrpy)\n",
            "  Downloading cspy-1.0.3-cp310-cp310-manylinux_2_17_x86_64.manylinux2014_x86_64.whl (489 kB)\n",
            "\u001b[2K     \u001b[90m━━━━━━━━━━━━━━━━━━━━━━━━━━━━━━━━━━━━━━━━\u001b[0m \u001b[32m489.3/489.3 kB\u001b[0m \u001b[31m8.1 MB/s\u001b[0m eta \u001b[36m0:00:00\u001b[0m\n",
            "\u001b[?25hRequirement already satisfied: networkx in /usr/local/lib/python3.10/dist-packages (from vrpy) (3.3)\n",
            "Requirement already satisfied: numpy in /usr/local/lib/python3.10/dist-packages (from vrpy) (1.25.2)\n",
            "Collecting pulp (from vrpy)\n",
            "  Downloading PuLP-2.8.0-py3-none-any.whl (17.7 MB)\n",
            "\u001b[2K     \u001b[90m━━━━━━━━━━━━━━━━━━━━━━━━━━━━━━━━━━━━━━━━\u001b[0m \u001b[32m17.7/17.7 MB\u001b[0m \u001b[31m56.1 MB/s\u001b[0m eta \u001b[36m0:00:00\u001b[0m\n",
            "\u001b[?25hBuilding wheels for collected packages: vrpy\n",
            "  Building wheel for vrpy (setup.py) ... \u001b[?25l\u001b[?25hdone\n",
            "  Created wheel for vrpy: filename=vrpy-0.5.1-py3-none-any.whl size=177559 sha256=a1ab4dddb6e1afed632422625d8ce86233c0e426137bb26a46bb14bd3be4c311\n",
            "  Stored in directory: /root/.cache/pip/wheels/ed/82/02/25ff2a363ada1eabb60760332578d6c457a4224d4656900947\n",
            "Successfully built vrpy\n",
            "Installing collected packages: pulp, cspy, vrpy\n",
            "Successfully installed cspy-1.0.3 pulp-2.8.0 vrpy-0.5.1\n"
          ]
        }
      ],
      "source": [
        "!pip install vrpy"
      ]
    },
    {
      "cell_type": "code",
      "execution_count": null,
      "metadata": {},
      "outputs": [],
      "source": [
        "from networkx import DiGraph, set_node_attributes\n",
        "from vrpy import VehicleRoutingProblem\n",
        "\n",
        "\n",
        "def ler_arquivo_grafo(caminho_arquivo):\n",
        "    with open(caminho_arquivo, 'r') as arquivo:\n",
        "        # Lê o número de nós\n",
        "        N = int(arquivo.readline().strip())-1\n",
        "\n",
        "        # Lê as demandas dos nós\n",
        "        demandas = {}\n",
        "        for _ in range(N):\n",
        "            linha = arquivo.readline().strip().split()\n",
        "            id_no, demanda = int(linha[0]), int(linha[1])\n",
        "            demandas[id_no] = demanda\n",
        "\n",
        "        # Lê o número de arestas\n",
        "        K = int(arquivo.readline().strip())\n",
        "\n",
        "        # Lê as arestas\n",
        "        arestas = []\n",
        "        for _ in range(K):\n",
        "            linha = arquivo.readline().strip().split()\n",
        "            origem, destino, peso = int(linha[0]), int(linha[1]), int(linha[2])\n",
        "            arestas.append((origem, destino, peso))\n",
        "\n",
        "    return demandas, arestas\n",
        "\n",
        "############################################\n",
        "#             Usando a funcao\n",
        "############################################\n",
        "caminho_arquivo = 'grafo_500_0.125.txt'\n",
        "demandas, arestas = ler_arquivo_grafo(caminho_arquivo)\n",
        "\n",
        "\n",
        "G = DiGraph()\n",
        "for inicio, fim, custo in arestas:\n",
        "    if inicio==0: inicio=\"Source\"\n",
        "    if fim==0: fim=\"Sink\"\n",
        "    G.add_edge(inicio, fim, cost=custo)\n",
        "\n",
        "set_node_attributes(G, values=demandas, name=\"demand\")\n",
        "\n",
        "prob = VehicleRoutingProblem(G, load_capacity=15)  # Pode alterar a capacidade\n",
        "prob.num_stops = 5                                 # Pode alterar o número máximo de paradas\n",
        "prob.solve()"
      ]
    },
    {
      "cell_type": "code",
      "execution_count": null,
      "metadata": {
        "colab": {
          "base_uri": "https://localhost:8080/"
        },
        "id": "gXaAfAXPJ7dD",
        "outputId": "399b39c4-7e6c-4e61-cb80-db037d933ef0"
      },
      "outputs": [
        {
          "data": {
            "text/plain": [
              "{1: ['Source', 2, 9, 'Sink'],\n",
              " 2: ['Source', 5, 'Sink'],\n",
              " 3: ['Source', 7, 'Sink'],\n",
              " 4: ['Source', 1, 8, 'Sink'],\n",
              " 5: ['Source', 4, 6, 'Sink'],\n",
              " 6: ['Source', 3, 'Sink']}"
            ]
          },
          "execution_count": 11,
          "metadata": {},
          "output_type": "execute_result"
        }
      ],
      "source": [
        "prob.best_routes"
      ]
    },
    {
      "cell_type": "code",
      "execution_count": null,
      "metadata": {
        "colab": {
          "base_uri": "https://localhost:8080/"
        },
        "id": "TNB2OIKwxhwt",
        "outputId": "7185e6f1-4a3c-4f99-8a2b-adc385d9ece9"
      },
      "outputs": [
        {
          "data": {
            "text/plain": [
              "741"
            ]
          },
          "execution_count": 12,
          "metadata": {},
          "output_type": "execute_result"
        }
      ],
      "source": [
        "prob.best_value"
      ]
    },
    {
      "cell_type": "code",
      "execution_count": null,
      "metadata": {
        "colab": {
          "base_uri": "https://localhost:8080/"
        },
        "id": "t2OYDBTR00dd",
        "outputId": "9d84d408-0f0c-465a-f7c1-edc1eb17ffa3"
      },
      "outputs": [
        {
          "data": {
            "text/plain": [
              "{1: 167, 2: 24, 3: 74, 4: 205, 5: 223, 6: 48}"
            ]
          },
          "execution_count": 13,
          "metadata": {},
          "output_type": "execute_result"
        }
      ],
      "source": [
        "prob.best_routes_cost"
      ]
    },
    {
      "cell_type": "code",
      "execution_count": null,
      "metadata": {
        "colab": {
          "base_uri": "https://localhost:8080/"
        },
        "id": "HI4JEITxeK6S",
        "outputId": "b74ed50f-5bfb-4884-b5c0-c0ff4f03f2cf"
      },
      "outputs": [
        {
          "data": {
            "text/plain": [
              "{1: 11, 2: 4, 3: 7, 4: 11, 5: 15, 6: 3}"
            ]
          },
          "execution_count": 14,
          "metadata": {},
          "output_type": "execute_result"
        }
      ],
      "source": [
        "prob.best_routes_load"
      ]
    },
    {
      "cell_type": "markdown",
      "metadata": {
        "id": "YrSxlCoiuz64"
      },
      "source": []
    },
    {
      "cell_type": "markdown",
      "metadata": {
        "id": "lGmXadh_vSGv"
      },
      "source": [
        "# Algoritmo de busca global (Pseudocódigo) e Rubrica"
      ]
    },
    {
      "cell_type": "markdown",
      "metadata": {
        "id": "FaeepKU7eMHy"
      },
      "source": [
        "\n",
        "\n",
        "```cpp\n",
        "Função ResolverVRPComDemanda(Locais, Demanda, C):\n",
        "    // Locais: Lista de locais para entrega (excluindo o depósito)\n",
        "    // Demanda: Dicionário mapeando cada local à sua demanda\n",
        "    // C: Capacidade do veículo\n",
        "    \n",
        "    MelhorRota = NULL\n",
        "    MenorCusto = INFINITO\n",
        "\n",
        "    // Gera todas as combinações possíveis de rotas considerando a capacidade do veículo\n",
        "    Combinações = GerarTodasAsCombinações(Locais)\n",
        "    \n",
        "    Para cada combinação em Combinações faça:\n",
        "        Se VerificarCapacidade(combinação, Demanda, C) então:\n",
        "            CustoAtual = CalcularCusto(combinação)\n",
        "            Se CustoAtual < MenorCusto então:\n",
        "                MenorCusto = CustoAtual\n",
        "                MelhorRota = combinação\n",
        "                \n",
        "    Retornar MelhorRota, MenorCusto\n",
        "\n",
        "Função GerarTodasAsCombinações(Locais):\n",
        "    // Gera todas as permutações possíveis de locais e agrupa em rotas válidas conforme a capacidade\n",
        "    // Esta função é bastante complexa, pois precisa considerar todas as subdivisões possíveis dos locais em rotas que atendam à capacidade do veículo\n",
        "    // Retorna uma lista de combinações válidas\n",
        "    Retornar combinações\n",
        "\n",
        "Função VerificarCapacidade(Rota, Demanda, C):\n",
        "    // Verifica se a demanda total da rota não excede a capacidade do veículo\n",
        "    CargaTotal = 0\n",
        "    Para cada local em Rota faça:\n",
        "        CargaTotal += Demanda[local]\n",
        "    Se CargaTotal > C então:\n",
        "        Retornar Falso\n",
        "    Senão:\n",
        "        Retornar Verdadeiro\n",
        "\n",
        "Função CalcularCusto(Rota):\n",
        "    // Calcula o custo de uma rota com base na distância, tempo ou outro critério\n",
        "    // O custo pode depender de fatores como a distância total percorrida, o número de veículos necessários, entre outros\n",
        "    Retornar custo\n",
        "\n",
        "// Início do programa\n",
        "// Define os locais, suas demandas e a capacidade do veículo\n",
        "Locais = [...]\n",
        "Demanda = {...}\n",
        "Capacidade = C\n",
        "\n",
        "MelhorRota, MenorCusto = ResolverVRPComDemanda(Locais, Demanda, Capacidade)\n",
        "Exibir \"A melhor rota é:\", MelhorRota, \"com custo total de:\", MenorCusto\n",
        "```"
      ]
    },
    {
      "cell_type": "markdown",
      "metadata": {
        "id": "dkgjDSkDshlu"
      },
      "source": [
        "## Critérios de avaliação\n",
        "\n",
        "A correção do projeto levará em conta:\n",
        "\n",
        "+ [Até 1 pontos] **Organização geral**\n",
        "  - Organização do código fonte e/ou do notebook que centraliza seus códigos. Se a entrega for via jupyter notebook, ele deve conter células markdown que guiem a apreciação do trabalho. Caso seu código esteja organizado em arquivos \".cpp\", \".py\", etc, submeta também um relatório em PDF descrevendo seu trabalho;\n",
        "\n",
        "+ [Até 4 pontos] **Implementações**\n",
        "  - Sua entrega deve conter ao menos 3 implementações (uma para cada solução: exaustiva, OpenMP e MPI). Soluções extras nestas vertentes são encorajadas e serão valorizadas;\n",
        "  - A parte de MPI deve ser obrigatoriamente executada no cluster. Portanto, submeta também os arquivos de configuração dos executáveis em batch;\n",
        "  - Esperamos códigos seguindo as boas práticas de implementação e devidamente comentados;\n",
        "\n",
        "+ [Até 3 pontos] **Avaliação de resultados**\n",
        "  - Comparações das abordagens com tamanhos diferentes de grafos;\n",
        "  - Clareza na comunicação dos resultados. Ex: gráficos e/ou pequenos textos que descrevem os resultados obtidos;\n",
        "  - Justificativas: é esperado que a execução paralela seja mais rápida que a sequencial, assim como uma heurística seja mais rápida que a abordagem exaustiva. Caso seus resultados diferem do esperado, argumente potenciais causas;\n",
        "\n",
        "+ [Até 1 ponto] **Extras**\n",
        "  - A rubrica não cita o máximo de implementações a ser feita. Caso você opte por fazer algo além das 4 solicitadas, daremos até 1 ponto extra na nota do trabalho pelo esforço;\n",
        "\n",
        "\n"
      ]
    },
    {
      "cell_type": "markdown",
      "metadata": {
        "id": "9b5Bnyv_o_fO"
      },
      "source": [
        "# GLOBAL"
      ]
    },
    {
      "cell_type": "markdown",
      "metadata": {
        "id": "AUV6HxLkecx6"
      },
      "source": [
        "Como primeiro passo deste projeto buscamos realizar o metodo da busca global pela melhor solução, onde são realizadas todas as cobinações possíveis de caminhos e através desta busca exaustiva encontramos o melhor resultado possível para o problema.\n",
        "\n",
        "Esta solução é inviável na grande maioria dos casos, uma vez que o tempo de execução cresce exponencialmente com a entrada, sendo possível executá-lo em tempo aceitável apenas em situações com algumas dezenos de nós para o vrp\n",
        "\n",
        "Apesar da intratabilidade para grandes entradas, enta pode ainda ser uma solução viável se:\n",
        "\n",
        "1. as entradas forem sempre pequenas\n",
        "2. é necessário que sempre se obtenha a melhor solução possível\n"
      ]
    },
    {
      "cell_type": "code",
      "execution_count": 5,
      "metadata": {
        "colab": {
          "base_uri": "https://localhost:8080/"
        },
        "id": "ASag0Dj8swqY",
        "outputId": "cf0b4f37-1d03-43b1-c4fa-3fa5e9a4bb36"
      },
      "outputs": [
        {
          "name": "stdout",
          "output_type": "stream",
          "text": [
            "Writing global.cpp\n"
          ]
        }
      ],
      "source": [
        "%%file global.cpp\n",
        "\n",
        "#include <iostream>  // For input and output\n",
        "#include <vector>    // For using vectors\n",
        "#include <algorithm> // For using algorithms like next_permutation\n",
        "#include <fstream>   // For file handling\n",
        "#include <set>       // For using sets\n",
        "#include <limits>    // For numeric limits\n",
        "#include <chrono>    // For measuring execution time\n",
        "#include <numeric>   // For numeric operations like iota\n",
        "\n",
        "using namespace std;\n",
        "using namespace std::chrono;\n",
        "\n",
        "// Function to read demands from a file and store them in a vector\n",
        "vector<int> ReadDemands(const string& fileName, int& numVerts) {\n",
        "    ifstream file(fileName); // Open the file\n",
        "    if (!file.is_open()) {   // Check if the file is open\n",
        "        cerr << \"Error opening file \" << fileName << endl;\n",
        "        exit(1);\n",
        "    }\n",
        "\n",
        "    file >> numVerts; // Read the number of vertices\n",
        "\n",
        "    vector<int> demands(numVerts, 0); // Initialize the demands vector\n",
        "    int dest, demand;\n",
        "    for (int i = 1; i < numVerts; i++) {\n",
        "        file >> dest >> demand; // Read destination and demand\n",
        "        demands[dest] = demand; // Store the demand in the vector\n",
        "    }\n",
        "    file.close(); // Close the file\n",
        "    return demands;\n",
        "}\n",
        "\n",
        "// Function to read routes from a file and store them in a 2D vector\n",
        "vector<vector<int>> ReadRoutes(const string& fileName, int& numVerts) {\n",
        "    ifstream file(fileName); // Open the file\n",
        "    if (!file.is_open()) {   // Check if the file is open\n",
        "        cerr << \"Error opening file \" << fileName << endl;\n",
        "        exit(1);\n",
        "    }\n",
        "\n",
        "    file >> numVerts; // Read the number of vertices\n",
        "\n",
        "    // Skip the initial routes data as it's not used\n",
        "    for (int i = 0; i < numVerts - 1; i++) {\n",
        "        int x, y;\n",
        "        file >> x >> y;\n",
        "    }\n",
        "\n",
        "    int numRoutes;\n",
        "    file >> numRoutes; // Read the number of routes\n",
        "\n",
        "    // Initialize the routes matrix with zeros\n",
        "    vector<vector<int>> routes(numVerts, vector<int>(numVerts, 0));\n",
        "\n",
        "    int src, dest, cost;\n",
        "    while (file >> src >> dest >> cost) {\n",
        "        routes[src][dest] = cost; // Store the cost in the matrix\n",
        "    }\n",
        "    file.close(); // Close the file\n",
        "    return routes;\n",
        "}\n",
        "\n",
        "// Function to calculate the cost of a given route\n",
        "int CalcCost(const vector<int>& route, const vector<vector<int>>& routes) {\n",
        "    int cost = 0;\n",
        "    for (size_t i = 0; i < route.size() - 1; ++i) {\n",
        "        int src = route[i];\n",
        "        int dest = route[i + 1];\n",
        "        if (routes[src][dest] == 0) { // If there's no direct route\n",
        "            return -1;\n",
        "        }\n",
        "        cost += routes[src][dest]; // Add the cost of the segment\n",
        "    }\n",
        "    return cost;\n",
        "}\n",
        "\n",
        "// Function to check if a route's total demand is within capacity\n",
        "bool CheckCapacity(const vector<int>& route, const vector<int>& demands, int capacity) {\n",
        "    int totalLoad = 0;\n",
        "    for (int idx : route) {\n",
        "        totalLoad += demands[idx]; // Sum the demands of all nodes in the route\n",
        "    }\n",
        "    return totalLoad <= capacity; // Check if within capacity\n",
        "}\n",
        "\n",
        "// Function to check if a route exists in a set of valid combinations\n",
        "bool RouteExists(const vector<int>& sub, const vector<vector<int>>& validCombs) {\n",
        "    return find(validCombs.begin(), validCombs.end(), sub) != validCombs.end();\n",
        "}\n",
        "\n",
        "// Function to generate all valid combinations of routes\n",
        "void GenerateAllCombs(const vector<vector<int>>& routes, int routeSize, vector<vector<int>>& results,\n",
        "                      const vector<int>& demands, int capacity) {\n",
        "    int n = routes.size();\n",
        "    vector<int> indices(n);\n",
        "    iota(indices.begin(), indices.end(), 0); // Fill indices with 0, 1, ..., n-1\n",
        "\n",
        "    // Generate all permutations of routes\n",
        "    while (next_permutation(indices.begin() + 1, indices.end())) {\n",
        "        for (int i = 0; i < n; i += routeSize) {\n",
        "            int j = min(i + routeSize, n);\n",
        "            vector<int> sub(indices.begin() + i, indices.begin() + j);\n",
        "            sub.insert(sub.begin(), 0); // Add starting point\n",
        "            sub.push_back(0);           // Add ending point\n",
        "            // Check if the route is valid\n",
        "            if (CalcCost(sub, routes) != -1 && !RouteExists(sub, results) && CheckCapacity(sub, demands, capacity)) {\n",
        "                results.push_back(sub); // Add to results if valid\n",
        "            }\n",
        "        }\n",
        "    }\n",
        "}\n",
        "\n",
        "// Function to check if there are no overlapping nodes in different routes\n",
        "bool NoOverlap(const vector<vector<int>>& routes, int totalNodes) {\n",
        "    set<int> visited;\n",
        "    for (const auto& route : routes) {\n",
        "        for (int node : route) {\n",
        "            if (node == 0) continue; // Skip the depot\n",
        "            if (visited.find(node) != visited.end()) { // If node already visited\n",
        "                return false;\n",
        "            }\n",
        "            visited.insert(node); // Mark the node as visited\n",
        "        }\n",
        "    }\n",
        "    return visited.size() == static_cast<size_t>(totalNodes) - 1;\n",
        "}\n",
        "\n",
        "// Recursive function to generate all combinations of routes\n",
        "void GenerateCombsRec(const vector<vector<int>>& routes, vector<int>& currComb, vector<vector<int>>& allCombs,\n",
        "                      int combSize, int numVerts, int start) {\n",
        "    if (currComb.size() == combSize) {\n",
        "        vector<vector<int>> realComb;\n",
        "        for (size_t idx : currComb) {\n",
        "            realComb.push_back(routes[idx]);\n",
        "        }\n",
        "        if (NoOverlap(realComb, numVerts)) {\n",
        "            allCombs.push_back(currComb); // Add to allCombs if no overlap\n",
        "        }\n",
        "        return;\n",
        "    }\n",
        "\n",
        "    for (size_t i = start; i < routes.size(); i++) {\n",
        "        currComb.push_back(i); // Add route index to current combination\n",
        "        GenerateCombsRec(routes, currComb, allCombs, combSize, numVerts, i + 1);\n",
        "        currComb.pop_back(); // Backtrack\n",
        "    }\n",
        "}\n",
        "\n",
        "// Wrapper function to generate all route combinations\n",
        "vector<vector<int>> GenerateAllCombs(const vector<vector<int>>& routes, int numVerts) {\n",
        "    vector<vector<int>> allCombs;\n",
        "    vector<int> currComb;\n",
        "\n",
        "    for (size_t k = 1; k <= routes.size(); k++) {\n",
        "        GenerateCombsRec(routes, currComb, allCombs, k, numVerts, 0);\n",
        "    }\n",
        "\n",
        "    return allCombs;\n",
        "}\n",
        "\n",
        "// Function to calculate the total cost of a combination of routes\n",
        "int TotalCost(const vector<int>& comb, const vector<vector<int>>& possRoutes, const vector<vector<int>>& routes) {\n",
        "    int totalCost = 0;\n",
        "    for (const auto& routeIdx : comb) {\n",
        "        int routeCost = CalcCost(possRoutes[routeIdx], routes);\n",
        "        if (routeCost == -1) return -1; // If any route is invalid\n",
        "        totalCost += routeCost; // Add route cost to total cost\n",
        "    }\n",
        "    return totalCost;\n",
        "}\n",
        "\n",
        "// Function to find the combination of routes with the minimum cost\n",
        "int MinCost(const vector<vector<int>>& allCombs, const vector<vector<int>>& possRoutes, const vector<vector<int>>& routes) {\n",
        "    int minCost = numeric_limits<int>::max();\n",
        "    vector<int> minCostIndices;\n",
        "\n",
        "    for (const auto& comb : allCombs) {\n",
        "        int totalCost = TotalCost(comb, possRoutes, routes);\n",
        "        if (totalCost != -1 && totalCost < minCost) {\n",
        "            minCost = totalCost;\n",
        "            minCostIndices = comb; // Update minimum cost and indices\n",
        "        }\n",
        "    }\n",
        "\n",
        "    cout << \"Minimum cost combination: \";\n",
        "    cout << minCost << endl; // Print minimum cost\n",
        "\n",
        "    return minCost;\n",
        "}\n",
        "\n",
        "// Function to solve the Vehicle Routing Problem (VRP)\n",
        "int SolveVRP(const vector<vector<int>>& locations, const vector<int>& demands, int capacity, int numVerts, int routeSize, int maxStops) {\n",
        "    vector<vector<int>> possRoutes;\n",
        "\n",
        "    // Generate possible routes\n",
        "    for (int i = 1; i < routeSize; i++) {\n",
        "        GenerateAllCombs(locations, i, possRoutes, demands, capacity);\n",
        "    }\n",
        "\n",
        "    // Generate all combinations of possible routes\n",
        "    vector<vector<int>> allCombs = GenerateAllCombs(possRoutes, numVerts);\n",
        "    MinCost(allCombs, possRoutes, locations); // Find the minimum cost combination\n",
        "\n",
        "    return 0;\n",
        "}\n",
        "\n",
        "// Main function to execute the program\n",
        "int main(int argc, char* argv[]) {\n",
        "    if (argc < 2) {\n",
        "        cerr << \"Usage: \" << argv[0] << \" <input file>\" << endl;\n",
        "        return 1;\n",
        "    }\n",
        "    string fileName = argv[1];\n",
        "    int capacity = 15;\n",
        "    int numVerts;\n",
        "    int routeSize = 3;\n",
        "    int maxStops = 5;\n",
        "\n",
        "    // Read demands and locations from the input file\n",
        "    vector<int> demands = ReadDemands(fileName, numVerts);\n",
        "    vector<vector<int>> locations = ReadRoutes(fileName, numVerts);\n",
        "\n",
        "    auto start = high_resolution_clock::now(); // Start measuring execution time\n",
        "\n",
        "    SolveVRP(locations, demands, capacity, numVerts, routeSize, maxStops); // Solve the VRP\n",
        "\n",
        "    auto end = high_resolution_clock::now(); // End measuring execution time\n",
        "    auto duration = duration_cast<milliseconds>(end - start).count();\n",
        "    cout << \"Execution time: \" << duration << \" ms\" << endl; // Print execution time\n",
        "\n",
        "    return 0;\n",
        "}"
      ]
    },
    {
      "cell_type": "markdown",
      "metadata": {
        "id": "YvreUzZ0fqkk"
      },
      "source": [
        "## Execução"
      ]
    },
    {
      "cell_type": "markdown",
      "metadata": {
        "id": "dqkkOKVef0Lr"
      },
      "source": [
        "Nas células abiaxo está construído um padrão que também será seguido para as próximas implementações, definido pelos seguintes passos.\n",
        "\n",
        "1. Definição do arquivo de entrada, não se esqueça de gerar os qrquivos anteriormente na etapa de geração de entradas\n",
        "2. compilação e execução, caso deseje executar no colab ou notebook é necessário apenas rodas as células abaixo, caso deseje fazer isso no cluster, o arquivo slurm está disponibilizado na seção slurm abaixo e deve ser rodado com o comando sbatch."
      ]
    },
    {
      "cell_type": "code",
      "execution_count": 7,
      "metadata": {
        "id": "3lXYq3vr5vCS"
      },
      "outputs": [],
      "source": [
        "arquivo = \"grafo_10_0.125.txt\""
      ]
    },
    {
      "cell_type": "code",
      "execution_count": 8,
      "metadata": {
        "colab": {
          "base_uri": "https://localhost:8080/"
        },
        "id": "Ru2KpDsEpvAJ",
        "outputId": "5f165d53-4859-4705-b7a5-b1128e578f5a"
      },
      "outputs": [
        {
          "name": "stdout",
          "output_type": "stream",
          "text": [
            "\u001b[01m\u001b[Kglobal.cpp:\u001b[m\u001b[K In function ‘\u001b[01m\u001b[Kvoid GenerateCombsRec(const std::vector<std::vector<int> >&, std::vector<int>&, std::vector<std::vector<int> >&, int, int, int)\u001b[m\u001b[K’:\n",
            "\u001b[01m\u001b[Kglobal.cpp:132:25:\u001b[m\u001b[K \u001b[01;35m\u001b[Kwarning: \u001b[m\u001b[Kcomparison of integer expressions of different signedness: ‘\u001b[01m\u001b[Kstd::vector<int>::size_type\u001b[m\u001b[K’ {aka ‘\u001b[01m\u001b[Klong unsigned int\u001b[m\u001b[K’} and ‘\u001b[01m\u001b[Kint\u001b[m\u001b[K’ [\u001b[01;35m\u001b[K\u001b]8;;https://gcc.gnu.org/onlinedocs/gcc/Warning-Options.html#index-Wsign-compare\u0007-Wsign-compare\u001b]8;;\u0007\u001b[m\u001b[K]\n",
            "  132 |     if (\u001b[01;35m\u001b[KcurrComb.size() == combSize\u001b[m\u001b[K) {\n",
            "      |         \u001b[01;35m\u001b[K~~~~~~~~~~~~~~~~^~~~~~~~~~~\u001b[m\u001b[K\n"
          ]
        }
      ],
      "source": [
        "!g++ -g -Wall -o global global.cpp"
      ]
    },
    {
      "cell_type": "code",
      "execution_count": 9,
      "metadata": {
        "colab": {
          "base_uri": "https://localhost:8080/"
        },
        "id": "VyBISU_ApW9W",
        "outputId": "75c49b34-38a0-43c6-da48-90a62c0264a5"
      },
      "outputs": [
        {
          "name": "stdout",
          "output_type": "stream",
          "text": [
            "Minimum cost combination: 913\n",
            "Execution time: 6652 ms\n"
          ]
        }
      ],
      "source": [
        "!./global $arquivo"
      ]
    },
    {
      "cell_type": "code",
      "execution_count": null,
      "metadata": {
        "id": "iQMsxiYAhbuz"
      },
      "outputs": [],
      "source": [
        "arquivo = \"grafo_20_0.125.txt\"\n",
        "!./global $arquivo"
      ]
    },
    {
      "cell_type": "markdown",
      "metadata": {
        "id": "U7SjGsDUZtxv"
      },
      "source": [
        "### Slurm\n"
      ]
    },
    {
      "cell_type": "code",
      "execution_count": null,
      "metadata": {
        "colab": {
          "base_uri": "https://localhost:8080/"
        },
        "id": "GuAsMK5KZ0T4",
        "outputId": "88798ebf-6e44-42af-cb20-214818068b1c"
      },
      "outputs": [
        {
          "name": "stdout",
          "output_type": "stream",
          "text": [
            "Writing global.slurm\n"
          ]
        }
      ],
      "source": [
        "%%file global.slurm\n",
        "\n",
        "#!/bin/bash\n",
        "#SBATCH --job-name=global\n",
        "#SBATCH --nodes=1\n",
        "#SBATCH --partition=express\n",
        "#SBATCH --mem=500M\n",
        "\n",
        "./global $arquivo"
      ]
    },
    {
      "cell_type": "markdown",
      "metadata": {
        "id": "BkVaOIEWgoAk"
      },
      "source": [
        "## Resultados\n"
      ]
    },
    {
      "cell_type": "markdown",
      "metadata": {
        "id": "7gItGh46gsej"
      },
      "source": [
        "Para a analize desta conclusão o arquivo foi executado no colab conforme descrito na seção anterior.\n",
        "\n",
        "Ao executar o problema com entradas de 10 ou 20 nós ja é possível perceber o grau de complexidade do problema, sendo que ao rodá-lo para 20 nós já possuimos um tempo de execução drásticamente maior (levam-se alguns vários minutos) do para 10 nós (leva um pouco mais de 7 segundos) e para entradas de 50 ou 100 ja se torna intratável.\n",
        "\n",
        "Isso mostra que a solução implementada seria inutilizável em um problema real de traçado de rotas, sendo necessária a execução de outra abordagem para reduzir o tempo de processamento."
      ]
    },
    {
      "cell_type": "markdown",
      "metadata": {
        "id": "_4sklM6tudlP"
      },
      "source": [
        "# Heuristica"
      ]
    },
    {
      "cell_type": "markdown",
      "metadata": {
        "id": "keDa0bSxiv16"
      },
      "source": [
        "Com o objetivo de se tentar alcançar uma implementação viável para o mundo real, o próximo passo será o de se aplicar a heurítica de de Clarke e Wright.\n",
        "\n",
        "Essa heurística foi escolhida uma vez que ela é simples de se entendere implementar comparada a outras heurísticas do VRP e apresenta resultados bons e rápidos com frequência.\n",
        "\n",
        "Os passos desta heurística são os seguintes:\n",
        "\n",
        "1. Começa-se com uma solução inicial onde cada cliente é atendido individualmente por um veículo que vai do depósito até o cliente e retorna diretamente ao depósito. Ou seja, se houver n clientes, teremos n rotas inicialmente.\n",
        "\n",
        "2. Para cada par de clientes 𝑖 e 𝑗, calcula-se a economia 𝑆𝑖𝑗\n",
        "associada ao combinar os dois clientes em uma única rota, em vez de atender a cada um individualmente. esta operação é representada pela fórmula:\n",
        "𝑆𝑖𝑗 = d0i+d0j−dij\n",
        "\n",
        "3. As economias 𝑆𝑖𝑗 são ordenadas de forma decrescente.\n",
        "\n",
        "4. Inicia-se a construção das rotas. Inicialmente, cada cliente está em uma rota separada. A heurística começa a combinar rotas baseando-se nas economias calculadas, começando pela maior economia.\n",
        "Ao combinar duas rotas que incluem os clientes 𝑖 e 𝑗, verifica-se se é possível juntar essas rotas sem violar nenhuma restrição do problema (por exemplo, capacidade dos veículos ou restrições de tempo).\n",
        "A combinação é feita unindo a rota que termina em 𝑖 com a rota que começa em 𝑗.\n",
        "\n",
        "5. Começamos a iterar até que não seja possível mais combinar rotas de forma benéfica ou até que todas as economias possíveis tenham sido avaliadas.\n",
        "\n"
      ]
    },
    {
      "cell_type": "code",
      "execution_count": 10,
      "metadata": {
        "colab": {
          "base_uri": "https://localhost:8080/"
        },
        "id": "V149F3mXpn-W",
        "outputId": "0e1f7548-6a61-42bc-c4f1-9b7ec3727fe1"
      },
      "outputs": [
        {
          "name": "stdout",
          "output_type": "stream",
          "text": [
            "Writing heuristica.cpp\n"
          ]
        }
      ],
      "source": [
        "%%file heuristica.cpp\n",
        "\n",
        "\n",
        "#include <iostream>  // For input and output operations\n",
        "#include <vector>    // For using vectors\n",
        "#include <algorithm> // For using algorithms like sort\n",
        "#include <map>       // For using maps\n",
        "#include <climits>   // For integer limits\n",
        "#include <fstream>   // For file handling\n",
        "#include <set>       // For using sets\n",
        "#include <limits>    // For numeric limits\n",
        "#include <chrono>    // For measuring execution time\n",
        "\n",
        "using namespace std;\n",
        "using namespace std::chrono;\n",
        "\n",
        "// Function to read the input file and return a vector with demands\n",
        "vector<int> LerDestinoDemanda(const string& nomeArquivo, int& numVertices) {\n",
        "    ifstream arquivo(nomeArquivo); // Open the file\n",
        "    if (!arquivo.is_open()) {      // Check if the file is open\n",
        "        cerr << \"Erro ao abrir o arquivo \" << nomeArquivo << endl;\n",
        "        exit(1);\n",
        "    }\n",
        "\n",
        "    arquivo >> numVertices; // Read the number of vertices\n",
        "\n",
        "    vector<int> grafo(numVertices, 0); // Initialize the graph with zero demands\n",
        "    int destino, demanda;\n",
        "    for (int i = 1; i < numVertices; i++) {\n",
        "        arquivo >> destino >> demanda; // Read destination and demand\n",
        "        grafo[destino] = demanda;      // Store the demand in the graph\n",
        "    }\n",
        "    arquivo.close(); // Close the file\n",
        "    return grafo;\n",
        "}\n",
        "\n",
        "// Function to read the input file and return a vector with possible routes\n",
        "vector<vector<int>> LerRotasPossiveis(const string& nomeArquivo, int& numVertices) {\n",
        "    ifstream arquivo(nomeArquivo); // Open the file\n",
        "    if (!arquivo.is_open()) {      // Check if the file is open\n",
        "        cerr << \"Erro ao abrir o arquivo \" << nomeArquivo << endl;\n",
        "        exit(1);\n",
        "    }\n",
        "    // Read the first line of the file to get the number of vertices\n",
        "    arquivo >> numVertices;\n",
        "\n",
        "    // Skip the next numVertices-1 lines\n",
        "    for (int i = 0; i < numVertices-1; i++) {\n",
        "        int x, y;\n",
        "        arquivo >> x >> y;\n",
        "    }\n",
        "\n",
        "    // Read the number of possible routes\n",
        "    int numRotas;\n",
        "    arquivo >> numRotas;\n",
        "\n",
        "    // Create a graph with numVertices vertices and initialize with 0, then read the routes\n",
        "    vector<vector<int>> grafo(numVertices, vector<int>(numVertices, 0));\n",
        "\n",
        "    int origem, destino, custo;\n",
        "    while (arquivo >> origem >> destino >> custo) {\n",
        "        grafo[origem][destino] = custo; // Store the route cost (directed graph)\n",
        "    }\n",
        "    arquivo.close(); // Close the file\n",
        "    return grafo;\n",
        "}\n",
        "\n",
        "// Struct to store the economy values for the Clarke-Wright algorithm\n",
        "struct Economia {\n",
        "    int i, j;     // Nodes\n",
        "    double valor; // Economy value\n",
        "    Economia(int i, int j, double valor) : i(i), j(j), valor(valor) {} // Constructor\n",
        "};\n",
        "\n",
        "// Function to compare economy values\n",
        "bool compararEconomias(const Economia& a, const Economia& b) {\n",
        "    return a.valor > b.valor;\n",
        "}\n",
        "\n",
        "// Function to find the route of a node\n",
        "int encontrarRota(int node, const vector<vector<int>>& rotas, const vector<vector<int>>& distancias) {\n",
        "    for (size_t i = 0; i < rotas.size(); ++i) {\n",
        "        auto it = find(rotas[i].begin(), rotas[i].end(), node);\n",
        "        if (it != rotas[i].end()) {\n",
        "            // Check if the route has a cost of 0\n",
        "            for (size_t j = 0; j < rotas[i].size() - 1; ++j) {\n",
        "                if (distancias[rotas[i][j]][rotas[i][j + 1]] == 0) {\n",
        "                    return -1; // Invalid route\n",
        "                }\n",
        "            }\n",
        "            return i;\n",
        "        }\n",
        "    }\n",
        "    return -1;\n",
        "}\n",
        "\n",
        "// Function to calculate the cost of a route\n",
        "int calcularCustoRota(const vector<int>& rota, const vector<vector<int>>& distancias) {\n",
        "    int custo = 0;\n",
        "    for (size_t i = 0; i < rota.size() - 1; ++i) {\n",
        "        custo += distancias[rota[i]][rota[i + 1]];\n",
        "    }\n",
        "    return custo;\n",
        "}\n",
        "\n",
        "// Function to combine routes based on economies\n",
        "void CombinaRotas(vector<Economia>& economias, vector<vector<int>>& rotas, const vector<vector<int>>& distancias, const vector<int>& demandas, int maxParadas, int capacidade);\n",
        "\n",
        "// Function to verify if a new route is valid\n",
        "void VerificaValida(vector<int>& novaRota, const vector<vector<int>>& distancias, bool& rotaValida, vector<vector<int>>& rotas, int rotaI, int rotaJ);\n",
        "\n",
        "// Function to calculate the total cost of all routes\n",
        "void CalcCustoTotal(vector<vector<int>>& rotas, const vector<vector<int>>& distancias);\n",
        "\n",
        "// Function to implement the Clarke-Wright heuristic\n",
        "/**\n",
        " * Applies the Clarke-Wright heuristic algorithm to solve a vehicle routing problem.\n",
        " *\n",
        " * @param distancias A 2D vector representing the distances between each pair of nodes.\n",
        " * @param capacidade The maximum capacity of each vehicle.\n",
        " * @param demandas A vector representing the demand of each customer node.\n",
        " * @param maxParadas The maximum number of stops allowed in each route.\n",
        " */\n",
        "void clarkeWright(const vector<vector<int>>& distancias, int capacidade, const vector<int>& demandas, int maxParadas) {\n",
        "    int n = distancias.size() - 1; // Number of customers (excluding depot)\n",
        "\n",
        "    // Initialize individual routes\n",
        "    vector<vector<int>> rotas;\n",
        "    for (int i = 1; i <= n; ++i) {\n",
        "        rotas.push_back({0, i, 0});\n",
        "    }\n",
        "\n",
        "    // Calculate the economies\n",
        "    vector<Economia> economias;\n",
        "    for (int i = 1; i <= n; ++i) {\n",
        "        for (int j = i + 1; j <= n; ++j) {\n",
        "            int valor = distancias[0][i] + distancias[0][j] - distancias[i][j];\n",
        "            economias.push_back(Economia(i, j, valor));\n",
        "        }\n",
        "    }\n",
        "\n",
        "    // Sort the economies in descending order\n",
        "    sort(economias.begin(), economias.end(), compararEconomias);\n",
        "\n",
        "    // Combine routes based on economies\n",
        "    CombinaRotas(economias, rotas, distancias, demandas, maxParadas, capacidade);\n",
        "\n",
        "    // Calculate and print the total cost\n",
        "    CalcCustoTotal(rotas, distancias);\n",
        "}\n",
        "\n",
        "// Function to calculate the total cost of all routes\n",
        "void CalcCustoTotal(vector<vector<int>>& rotas, const vector<vector<int>>& distancias) {\n",
        "    int custoTotal = 0;\n",
        "    for (const auto& rota : rotas) {\n",
        "        int custoRota = calcularCustoRota(rota, distancias);\n",
        "        custoTotal += custoRota;\n",
        "    }\n",
        "    cout << \"Custo total: \" << custoTotal << endl; // Print total cost\n",
        "}\n",
        "\n",
        "// Function to combine routes based on economies\n",
        "void CombinaRotas(vector<Economia>& economias, vector<vector<int>>& rotas, const vector<vector<int>>& distancias, const vector<int>& demandas, int maxParadas, int capacidade) {\n",
        "    for (const auto& economia : economias) {\n",
        "        int i = economia.i;\n",
        "        int j = economia.j;\n",
        "\n",
        "        int rotaI = encontrarRota(i, rotas, distancias);\n",
        "        int rotaJ = encontrarRota(j, rotas, distancias);\n",
        "\n",
        "        if (rotaI != -1 && rotaJ != -1 && rotaI != rotaJ) {\n",
        "            int demandaTotal = 0;\n",
        "            for (int cliente : rotas[rotaI]) {\n",
        "                if (cliente != 0) {\n",
        "                    demandaTotal += demandas[cliente];\n",
        "                }\n",
        "            }\n",
        "            for (int cliente : rotas[rotaJ]) {\n",
        "                if (cliente != 0) {\n",
        "                    demandaTotal += demandas[cliente];\n",
        "                }\n",
        "            }\n",
        "\n",
        "            // Check if the combination exceeds the maximum number of stops\n",
        "            int numParadasRotaI = rotas[rotaI].size() - 2; // Excluding initial and final depot\n",
        "            int numParadasRotaJ = rotas[rotaJ].size() - 2; // Excluding initial and final depot\n",
        "            if (numParadasRotaI + numParadasRotaJ > maxParadas) {\n",
        "                continue; // Skip this combination if it exceeds the stop limit\n",
        "            }\n",
        "\n",
        "            if (demandaTotal <= capacidade) {\n",
        "                // Combine the routes\n",
        "                vector<int> novaRota = rotas[rotaI];\n",
        "                novaRota.pop_back();\n",
        "                novaRota.insert(novaRota.end(), rotas[rotaJ].begin() + 1, rotas[rotaJ].end());\n",
        "\n",
        "                // Verify if the new route is valid\n",
        "                bool rotaValida = true;\n",
        "                VerificaValida(novaRota, distancias, rotaValida, rotas, rotaI, rotaJ);\n",
        "            }\n",
        "        }\n",
        "    }\n",
        "}\n",
        "\n",
        "// Function to verify if a new route is valid\n",
        "void VerificaValida(vector<int>& novaRota, const vector<vector<int>>& distancias, bool& rotaValida, vector<vector<int>>& rotas, int rotaI, int rotaJ) {\n",
        "    for (size_t k = 0; k < novaRota.size() - 1; ++k) {\n",
        "        if (distancias[novaRota[k]][novaRota[k + 1]] == 0) {\n",
        "            rotaValida = false;\n",
        "            break;\n",
        "        }\n",
        "    }\n",
        "\n",
        "    if (rotaValida) {\n",
        "        rotas[rotaI] = novaRota;\n",
        "        rotas.erase(rotas.begin() + rotaJ);\n",
        "    }\n",
        "}\n",
        "\n",
        "// Main function\n",
        "int main(int argc, char* argv[]) {\n",
        "    char* nomeArquivo = argv[1]; // Get the input file name from command line arguments\n",
        "    int numVertices;\n",
        "    vector<int> demandas = LerDestinoDemanda(nomeArquivo, numVertices); // Read demands\n",
        "    vector<vector<int>> distancias = LerRotasPossiveis(nomeArquivo, numVertices); // Read distances\n",
        "\n",
        "    int capacidade = 15; // Vehicle capacity\n",
        "    int maxParadas = 5;  // Maximum stops\n",
        "\n",
        "    auto start = high_resolution_clock::now(); // Start measuring execution time\n",
        "    clarkeWright(distancias, capacidade, demandas, maxParadas - 2); // Apply Clarke-Wright algorithm\n",
        "    auto end = high_resolution_clock::now(); // End measuring execution time\n",
        "\n",
        "    auto duration = duration_cast<milliseconds>(end - start).count(); // Calculate duration\n",
        "    cout << \"Tempo de execução: \" << duration << \" ms\" << endl; // Print execution time\n",
        "\n",
        "    return 0;\n",
        "}"
      ]
    },
    {
      "cell_type": "markdown",
      "metadata": {
        "id": "uK4GyYTamP0u"
      },
      "source": [
        "## Execução"
      ]
    },
    {
      "cell_type": "code",
      "execution_count": 11,
      "metadata": {
        "id": "GYSBflgP4x8j"
      },
      "outputs": [],
      "source": [
        "arquivo = \"grafo_100_0.125.txt\""
      ]
    },
    {
      "cell_type": "code",
      "execution_count": 12,
      "metadata": {
        "colab": {
          "base_uri": "https://localhost:8080/"
        },
        "id": "xiy-m9Fwt6Dw",
        "outputId": "a808ab72-185e-41b6-e061-e96c0c51d01f"
      },
      "outputs": [
        {
          "name": "stdout",
          "output_type": "stream",
          "text": [
            "Custo total: 5411\n",
            "Tempo de execução: 42 ms\n"
          ]
        }
      ],
      "source": [
        "!g++ -g -Wall -fopenmp -o heuristica heuristica.cpp\n",
        "!./heuristica $arquivo"
      ]
    },
    {
      "cell_type": "code",
      "execution_count": 13,
      "metadata": {
        "colab": {
          "base_uri": "https://localhost:8080/"
        },
        "id": "n62nfzHqm4le",
        "outputId": "b2a34556-fe57-44b1-fd32-ffce56abe2bd"
      },
      "outputs": [
        {
          "name": "stdout",
          "output_type": "stream",
          "text": [
            "Custo total: 25756\n",
            "Tempo de execução: 5388 ms\n"
          ]
        }
      ],
      "source": [
        "arquivo = \"grafo_500_0.125.txt\"\n",
        "!./heuristica $arquivo"
      ]
    },
    {
      "cell_type": "code",
      "execution_count": 14,
      "metadata": {
        "colab": {
          "base_uri": "https://localhost:8080/"
        },
        "id": "3FAO-Sadm6s7",
        "outputId": "6e2ed27e-d039-4a41-d42a-636ba1c1b5a0"
      },
      "outputs": [
        {
          "name": "stdout",
          "output_type": "stream",
          "text": [
            "Custo total: 49987\n",
            "Tempo de execução: 36090 ms\n"
          ]
        }
      ],
      "source": [
        "arquivo = \"grafo_1000_0.125.txt\"\n",
        "!./heuristica $arquivo"
      ]
    },
    {
      "cell_type": "markdown",
      "metadata": {
        "id": "gX0dCH2AmMH9"
      },
      "source": []
    },
    {
      "cell_type": "markdown",
      "metadata": {
        "id": "cZyXQ4S-aZ_Z"
      },
      "source": [
        "### Slurm"
      ]
    },
    {
      "cell_type": "code",
      "execution_count": null,
      "metadata": {
        "colab": {
          "base_uri": "https://localhost:8080/"
        },
        "id": "gQwFawz_acAC",
        "outputId": "be1e0a2c-bdfb-481b-e30b-9702a06f9756"
      },
      "outputs": [
        {
          "name": "stdout",
          "output_type": "stream",
          "text": [
            "Writing heuristica.slurm\n"
          ]
        }
      ],
      "source": [
        "%%file heuristica.slurm\n",
        "\n",
        "#!/bin/bash\n",
        "#SBATCH --job-name=heuristica\n",
        "#SBATCH --nodes=1\n",
        "#SBATCH --partition=express\n",
        "#SBATCH --mem=500M\n",
        "\n",
        "./heuristica $arquivo"
      ]
    },
    {
      "cell_type": "markdown",
      "metadata": {
        "id": "HMudSz5ImT-8"
      },
      "source": [
        "## Resultados"
      ]
    },
    {
      "cell_type": "markdown",
      "metadata": {
        "id": "uBB8CbC5mX50"
      },
      "source": [
        "Pode-se dizer que a aplicação da heurística foi um grande sucesso. Ao compararmos o desemprenho da versão com heurística com a exaustiva, vemos que diferntemente da exaustiva a heurística é capaz de tornar tratáveis entradas de até mlihares de nós e executar entradas pequenas em um tempo rápido e viável para aplicações reais.\n",
        "\n",
        "Apesar disso ao compararmos os tempos obtidos nas execuções realizadas na seção anterior, é possível ver que o crescimento da complexidade ainda continua exponencial o próximo de exponecial, ao levar 5 segundo para uma entrada de tamanho 500 e 40 para uma entrada de tamanho 1000, logo, apesar do sucesso, a solução com heurística ainda é inviável para entradas grandes, possuindo sua aplicação liitada a entradas pequenas ou médias.\n",
        "\n"
      ]
    },
    {
      "cell_type": "markdown",
      "metadata": {
        "id": "2l-1UAtIwGPn"
      },
      "source": [
        "# Paralelização Local"
      ]
    },
    {
      "cell_type": "markdown",
      "metadata": {
        "id": "usla4mkEnwMW"
      },
      "source": [
        "O próximo passo passo a realizarmos em nossas implementações é a tentativa de paralelização, neste caso a local, utilizando-se de múltiplos processos de uma máquina com a ajuda do openMP.\n",
        "\n",
        "A melhor implementação possível é capaz de tornar algoritimos de tempos exponênciais em polinômiais, através da aplucação de uma estrutura semelhante a uma máquina de turing não determinística e assim, tornar grandes entradas tratáveis."
      ]
    },
    {
      "cell_type": "markdown",
      "metadata": {
        "id": "v4AMg-V2ofiF"
      },
      "source": [
        "Para realizar a implementação do paralelismo para o código abaixo, optu-se por realizar apenas a parelização de fors, utilizando diferentes schedulers do openMP, sendo eles os que foram julgados como mais adequados para cada situação.\n",
        "\n",
        "Schedulers utilizados:\n",
        "\n",
        "Static - O scheduler statico é util para paralelizar fors com iterações que possuem mais ou menos o mesmo tempo de execução, uma vez que a divisão dos dados entre as threads é feita durante a compliação\n",
        "\n",
        "Guided - O scheduler guiado, inicia associando grandes grupos de dados aos processos no começo da execução e menores no final, sendo útil para fors com iterações que aumentam de complexidade."
      ]
    },
    {
      "cell_type": "code",
      "execution_count": 49,
      "metadata": {
        "colab": {
          "base_uri": "https://localhost:8080/"
        },
        "id": "tZjRrT9ov6vY",
        "outputId": "fe90db9c-6dcb-41a6-8b90-68c1ab1903b6"
      },
      "outputs": [
        {
          "name": "stdout",
          "output_type": "stream",
          "text": [
            "Overwriting localParallel.cpp\n"
          ]
        }
      ],
      "source": [
        "%%file localParallel.cpp\n",
        "\n",
        "#include <iostream>\n",
        "#include <vector>\n",
        "#include <algorithm>\n",
        "#include <map>\n",
        "#include <climits>\n",
        "#include <fstream>\n",
        "#include <set>\n",
        "#include <limits>\n",
        "#include <chrono>\n",
        "#include <omp.h>\n",
        "\n",
        "using namespace std;\n",
        "using namespace std::chrono;\n",
        "\n",
        "// Função para ler o arquivo de entrada e retornar um vetor com as demandas\n",
        "vector<int> LerDestinoDemanda(const string& nomeArquivo, int& numVertices) {\n",
        "    ifstream arquivo(nomeArquivo);\n",
        "    if (!arquivo.is_open()) {\n",
        "        cerr << \"Erro ao abrir o arquivo \" << nomeArquivo << endl;\n",
        "        exit(1);\n",
        "    }\n",
        "\n",
        "    arquivo >> numVertices;\n",
        "\n",
        "    vector<int> grafo(numVertices, 0);\n",
        "    int destino, demanda;\n",
        "    for (int i = 1; i < numVertices; i++) {\n",
        "        arquivo >> destino >> demanda;\n",
        "        grafo[destino] = demanda;\n",
        "    }\n",
        "    arquivo.close();\n",
        "    return grafo;\n",
        "}\n",
        "\n",
        "// Função para ler o arquivo de entrada e retornar um vetor com as rotas possíveis\n",
        "vector<vector<int>> LerRotasPossiveis(const string& nomeArquivo, int& numVertices) {\n",
        "    ifstream arquivo(nomeArquivo);\n",
        "    if (!arquivo.is_open()) {\n",
        "        cerr << \"Erro ao abrir o arquivo \" << nomeArquivo << endl;\n",
        "        exit(1);\n",
        "    }\n",
        "    // le a primeira linha do arquivo e salva o numero de vertices\n",
        "    arquivo >> numVertices;\n",
        "\n",
        "    // ignora as proximas numVertices-1 linhas\n",
        "    for (int i = 0; i < numVertices-1; i++) {\n",
        "        int x, y;\n",
        "        arquivo >> x >> y;\n",
        "    }\n",
        "\n",
        "    // le a quantidade de rotas possiveis\n",
        "    int numRotas;\n",
        "    arquivo >> numRotas;\n",
        "\n",
        "    // cria um grafo com numVertices vertices e inicializa com 0 e le as rotas\n",
        "    vector<vector<int>> grafo(numVertices, vector<int>(numVertices, 0));\n",
        "\n",
        "    int origem, destino, custo;\n",
        "    while (arquivo >> origem >> destino >> custo) {\n",
        "        grafo[origem][destino] = custo;     // GRAFO DIRECIONADO!\n",
        "    }\n",
        "    arquivo.close();\n",
        "    return grafo;\n",
        "}\n",
        "\n",
        "struct Economia {\n",
        "    int i, j;\n",
        "    double valor;\n",
        "    Economia(int i, int j, double valor) : i(i), j(j), valor(valor) {} // Construtor\n",
        "};\n",
        "\n",
        "bool compararEconomias(const Economia& a, const Economia& b) {\n",
        "    return a.valor > b.valor;\n",
        "}\n",
        "\n",
        "// Função para encontrar a rota de um nó\n",
        "int encontrarRota(int node, const vector<vector<int>>& rotas, const vector<vector<int>>& distancias) {\n",
        "    for (size_t i = 0; i < rotas.size(); ++i) {\n",
        "        auto it = find(rotas[i].begin(), rotas[i].end(), node);\n",
        "        if (it != rotas[i].end()) {\n",
        "            // Verificar se a rota tem custo 0\n",
        "            for (size_t j = 0; j < rotas[i].size() - 1; ++j) {\n",
        "                if (distancias[rotas[i][j]][rotas[i][j + 1]] == 0) {\n",
        "                    return -1; // Rota inválida\n",
        "                }\n",
        "            }\n",
        "            return i;\n",
        "        }\n",
        "    }\n",
        "    return -1;\n",
        "}\n",
        "\n",
        "// Função para calcular o custo de uma rota\n",
        "int calcularCustoRota(const vector<int>& rota, const vector<vector<int>>& distancias) {\n",
        "    int custo = 0;\n",
        "\n",
        "    #pragma omp parallel for reduction(+:custo) schedule(static)\n",
        "    for (size_t i = 0; i < rota.size() - 1; ++i) {\n",
        "        custo += distancias[rota[i]][rota[i + 1]];\n",
        "    }\n",
        "    return custo;\n",
        "}\n",
        "\n",
        "void CombinaRotas(std::vector<Economia> &economias, std::vector<std::vector<int>> &rotas, const std::vector<std::vector<int>> &distancias, const std::vector<int> &demandas, int maxParadas, int capacidade);\n",
        "\n",
        "void VerificaValida(std::vector<int> &novaRota, const std::vector<std::vector<int>> &distancias, bool &rotaValida, std::vector<std::vector<int>> &rotas, int rotaI, int rotaJ);\n",
        "\n",
        "void CalcCustoTotal(std::vector<std::vector<int>> &rotas, const std::vector<std::vector<int>> &distancias);\n",
        "\n",
        "\n",
        "void clarkeWright(const vector<vector<int>>& distancias, int capacidade, const vector<int>& demandas, int maxParadas) {\n",
        "    int n = distancias.size() - 1; // número de clientes (não inclui depósito)\n",
        "\n",
        "    // Inicializa rotas individuais\n",
        "    vector<vector<int>> rotas;\n",
        "    for (int i = 1; i <= n; ++i) {\n",
        "        rotas.push_back({0, i, 0});\n",
        "    }\n",
        "\n",
        "    // Calcula as economias\n",
        "    vector<Economia> economias;\n",
        "    int numPairs = (n * (n - 1)) / 2;\n",
        "\n",
        "    #pragma omp parallel for schedule(guided)\n",
        "    for (int index = 0; index < numPairs; ++index) {\n",
        "        int i = 1 + index / (n - 1);\n",
        "        int j = 2 + index % (n - 1);\n",
        "\n",
        "        if (j > n) {\n",
        "            i++;\n",
        "            j = i + 1;\n",
        "        }\n",
        "\n",
        "        int valor = distancias[0][i] + distancias[0][j] - distancias[i][j];\n",
        "\n",
        "        #pragma omp critical\n",
        "        economias.push_back(Economia(i, j, valor));\n",
        "    }\n",
        "\n",
        "    // Ordena as economias em ordem decrescente\n",
        "    sort(economias.begin(), economias.end(), compararEconomias);\n",
        "\n",
        "    CombinaRotas(economias, rotas, distancias, demandas, maxParadas, capacidade);\n",
        "\n",
        "    CalcCustoTotal(rotas, distancias);\n",
        "}\n",
        "\n",
        "void CalcCustoTotal(std::vector<std::vector<int>> &rotas, const std::vector<std::vector<int>> &distancias)\n",
        "{\n",
        "    // Calcula e imprime o custo total\n",
        "    int custoTotal = 0;\n",
        "\n",
        "    #pragma omp parallel for reduction(+:custoTotal) schedule(static)\n",
        "    for (size_t i = 0; i < rotas.size(); ++i)\n",
        "    {\n",
        "        int custoRota = calcularCustoRota(rotas[i], distancias);\n",
        "        #pragma omp critical\n",
        "        {\n",
        "            custoTotal += custoRota;\n",
        "        }\n",
        "    }\n",
        "    cout << \"Custo total: \" << custoTotal << endl;\n",
        "}\n",
        "\n",
        "void CombinaRotas(std::vector<Economia> &economias, std::vector<std::vector<int>> &rotas, const std::vector<std::vector<int>> &distancias, const std::vector<int> &demandas, int maxParadas, int capacidade)\n",
        "{\n",
        "    // Combina rotas com base nas economias\n",
        "    for (size_t k = 0; k < economias.size(); ++k)\n",
        "    {\n",
        "        int i = economias[k].i;\n",
        "        int j = economias[k].j;\n",
        "\n",
        "        int rotaI = encontrarRota(i, rotas, distancias);\n",
        "        int rotaJ = encontrarRota(j, rotas, distancias);\n",
        "\n",
        "        if (rotaI != -1 && rotaJ != -1 && rotaI != rotaJ)\n",
        "        {\n",
        "            int demandaTotal = 0;\n",
        "\n",
        "            for (int cliente : rotas[rotaI])\n",
        "                {\n",
        "                    if (cliente != 0)\n",
        "                    {\n",
        "                        demandaTotal += demandas[cliente];\n",
        "                    }\n",
        "                }\n",
        "            for (int cliente : rotas[rotaJ])\n",
        "                {\n",
        "                    if (cliente != 0)\n",
        "                    {\n",
        "                        demandaTotal += demandas[cliente];\n",
        "                    }\n",
        "                }\n",
        "            // Verificar se a combinação excede o número máximo de paradas\n",
        "            int numParadasRotaI = rotas[rotaI].size() - 2; // Excluindo depósito inicial e final\n",
        "            int numParadasRotaJ = rotas[rotaJ].size() - 2; // Excluindo depósito inicial e final\n",
        "            if (numParadasRotaI + numParadasRotaJ > maxParadas)\n",
        "            {\n",
        "                continue; // Pular essa combinação se exceder o limite de paradas\n",
        "            }\n",
        "\n",
        "            if (demandaTotal <= capacidade)\n",
        "            {\n",
        "                // Combina as rotas\n",
        "                vector<int> novaRota = rotas[rotaI];\n",
        "                novaRota.pop_back();\n",
        "                novaRota.insert(novaRota.end(), rotas[rotaJ].begin() + 1, rotas[rotaJ].end());\n",
        "\n",
        "                // Verifica se a nova rota é válida\n",
        "                bool rotaValida = true;\n",
        "                VerificaValida(novaRota, distancias, rotaValida, rotas, rotaI, rotaJ);\n",
        "            }\n",
        "        }\n",
        "    }\n",
        "    //cout << \"Rotas combinadas\" << endl;\n",
        "}\n",
        "\n",
        "void VerificaValida(std::vector<int> &novaRota, const std::vector<std::vector<int>> &distancias, bool &rotaValida, std::vector<std::vector<int>> &rotas, int rotaI, int rotaJ)\n",
        "{\n",
        "    for (size_t k = 0; k < novaRota.size() - 1; ++k)\n",
        "    {\n",
        "        if (distancias[novaRota[k]][novaRota[k + 1]] == 0)\n",
        "        {\n",
        "            rotaValida = false;\n",
        "            break;\n",
        "        }\n",
        "    }\n",
        "\n",
        "    if (rotaValida)\n",
        "    {\n",
        "        {\n",
        "            rotas[rotaI] = novaRota;\n",
        "            rotas.erase(rotas.begin() + rotaJ);\n",
        "        }\n",
        "    }\n",
        "}\n",
        "\n",
        "int main( int argc, char *argv[] ) {\n",
        "    char *nomeArquivo = argv[1];\n",
        "    int numVertices;\n",
        "    vector<int> demandas = LerDestinoDemanda(nomeArquivo, numVertices);\n",
        "    vector<vector<int>> distancias = LerRotasPossiveis(nomeArquivo, numVertices);\n",
        "\n",
        "    int capacidade = 15; // Capacidade do veículo\n",
        "    int maxParadas = 5;\n",
        "\n",
        "    auto start = high_resolution_clock::now();\n",
        "    clarkeWright(distancias, capacidade, demandas, maxParadas - 2); // -2 pra tirar a saida e entrada\n",
        "    auto end = high_resolution_clock::now();\n",
        "\n",
        "\n",
        "    auto duration = duration_cast<milliseconds>(end - start).count();\n",
        "    cout << \"Tempo de execução: \" << duration << \" ms\" << endl;\n",
        "\n",
        "    return 0;\n",
        "}"
      ]
    },
    {
      "cell_type": "markdown",
      "metadata": {
        "id": "CZa6phIBqDFE"
      },
      "source": [
        "## Execução"
      ]
    },
    {
      "cell_type": "markdown",
      "metadata": {
        "id": "YEWMrjH8qEwt"
      },
      "source": [
        "Observações sobre a execução.\n",
        "\n",
        "Devido a algum detalhe do colab, as vezes o algoritimo não imprime os resultados e da como completo, sem retornar erros ou qualquer sinal, caso isso ocorra, apenas execute novamente"
      ]
    },
    {
      "cell_type": "code",
      "execution_count": 50,
      "metadata": {
        "id": "oUh4DwIpdikS"
      },
      "outputs": [],
      "source": [
        "arquivo = \"grafo_100_0.125.txt\""
      ]
    },
    {
      "cell_type": "code",
      "execution_count": 51,
      "metadata": {
        "id": "hrZ9LbWDwCLv"
      },
      "outputs": [],
      "source": [
        "!g++ -g -Wall -fopenmp -o localParallel localParallel.cpp"
      ]
    },
    {
      "cell_type": "code",
      "execution_count": 52,
      "metadata": {
        "colab": {
          "base_uri": "https://localhost:8080/"
        },
        "id": "nMGvTAIIix57",
        "outputId": "beef6bef-e73b-4110-ef8d-e170137491da"
      },
      "outputs": [
        {
          "name": "stdout",
          "output_type": "stream",
          "text": [
            "Custo total: 6029\n",
            "Tempo de execução: 52 ms\n"
          ]
        }
      ],
      "source": [
        "!./localParallel $arquivo"
      ]
    },
    {
      "cell_type": "code",
      "execution_count": 53,
      "metadata": {
        "colab": {
          "base_uri": "https://localhost:8080/"
        },
        "id": "yflAwAkcptDC",
        "outputId": "fd9bcce4-5f07-4b68-db1b-37b0d76d0b62"
      },
      "outputs": [
        {
          "name": "stdout",
          "output_type": "stream",
          "text": [
            "Custo total: 26873\n",
            "Tempo de execução: 4614 ms\n"
          ]
        }
      ],
      "source": [
        "arquivo = \"grafo_500_0.125.txt\"\n",
        "!./localParallel $arquivo"
      ]
    },
    {
      "cell_type": "code",
      "execution_count": 54,
      "metadata": {
        "colab": {
          "base_uri": "https://localhost:8080/"
        },
        "id": "WVKK4uaGpvIS",
        "outputId": "7ed94039-be13-43ac-e4cb-ae384739378e"
      },
      "outputs": [
        {
          "name": "stdout",
          "output_type": "stream",
          "text": [
            "Custo total: 52077\n",
            "Tempo de execução: 30338 ms\n"
          ]
        }
      ],
      "source": [
        "arquivo = \"grafo_1000_0.125.txt\"\n",
        "!./localParallel $arquivo"
      ]
    },
    {
      "cell_type": "markdown",
      "metadata": {
        "id": "DphvK5BSagop"
      },
      "source": [
        "## Slurm"
      ]
    },
    {
      "cell_type": "code",
      "execution_count": null,
      "metadata": {
        "colab": {
          "base_uri": "https://localhost:8080/"
        },
        "id": "27WS_qWNaisA",
        "outputId": "2cb8827f-61de-4b66-a2ac-6855db597322"
      },
      "outputs": [
        {
          "name": "stdout",
          "output_type": "stream",
          "text": [
            "Writing localParallel.slurm\n"
          ]
        }
      ],
      "source": [
        "%%file localParallel.slurm\n",
        "\n",
        "#!/bin/bash\n",
        "#SBATCH --job-name=localParallel\n",
        "#SBATCH --nodes=1\n",
        "#SBATCH --ntasks=4\n",
        "#SBATCH --cores=4\n",
        "#SBATCH --mem=500M\n",
        "\n",
        "export OMP_NUM_THREADS=4\n",
        "./localParallel $arquivo"
      ]
    },
    {
      "cell_type": "markdown",
      "metadata": {
        "id": "Mp15Bpmqv3-4"
      },
      "source": []
    },
    {
      "cell_type": "markdown",
      "metadata": {
        "id": "c2bA3lQ_qly-"
      },
      "source": [
        "## Resultados"
      ]
    },
    {
      "cell_type": "markdown",
      "metadata": {
        "id": "Xja7Wvqrqp5-"
      },
      "source": [
        "Com base nas execuções realizadas na seção anterior podemos detectar uma melhoria no tempo de execução, em relação a aplicação apenas da heurística. é possível observar também, que a melhoria nos tempos de execução se torna cada vez mais evidente conforme o aumento das entradas, evidenciando uma melhoria no valor da exponecial.\n",
        "Porém como mencionado o algoritimo ainda continua a apresentar tempo exponencial, possuindo abertura para melhorias na parelilização.\n",
        "\n",
        "Outro ponto importante, este que deve ser melhorado em implementações futuras é a detecção de todas as \"race conditions\", uma vez que os resultados paralelizados foram um pouco diferentes dos resultados originais. Isto provavelmente ocorreu devido a em algum ponto da execução, dois ou mais processos acessaram a mesma variável simultanemante e por isso coletaram informações incorretas. Apesar de resultados variaveis serem um problema, é necessário notar também que em diversos casos é necessário balancear a segurança do resultado e o tempo de execução. Caso desejassemos eliminar todas as possíbilidades de conflito, poderiamos criar situações em que eliminariamos o propósito da paralelização, ao bloquear processos em pontos específicos, ou em situações piores, fazer com que o programa travesse nos pontos de concorrencia.\n"
      ]
    },
    {
      "cell_type": "markdown",
      "metadata": {
        "id": "k-u9VFydwJC3"
      },
      "source": [
        "# Paralelização em diversas máquinas"
      ]
    },
    {
      "cell_type": "markdown",
      "metadata": {
        "id": "LePSxIJas43v"
      },
      "source": [
        "Para a sessão abaixo, tentaremos implementar outro tipo de paralelização, ainda nos utilizando da heurístca, para este caso porém, utilizaremos do MPI para realizar compuação distribuida em diversas máquinas, ou caso deseje executar no colab ou localmente, em diversos cores da mesma máquina.\n",
        "\n",
        "Entrando um pouco mais afundo na implementação, o MPI permite que uma máquina mestre realiza comunicação com diversas outras máquinas, enviando e recebendo informações. A capacidade de transmitir informações foi utilizada neste caso para transmitir pedações dos arrays manipulados ao longo do código, com objetivo de distribuir o trabalho entre as máquinas."
      ]
    },
    {
      "cell_type": "code",
      "execution_count": null,
      "metadata": {
        "colab": {
          "base_uri": "https://localhost:8080/"
        },
        "id": "_3q1Uue1v2Sf",
        "outputId": "65d697eb-d4d0-4072-bd24-e149163697f1"
      },
      "outputs": [
        {
          "name": "stdout",
          "output_type": "stream",
          "text": [
            "Overwriting mpiV2.cpp\n"
          ]
        }
      ],
      "source": [
        "%%file mpiV2.cpp\n",
        "\n",
        "#include <iostream>\n",
        "#include <vector>\n",
        "#include <algorithm>\n",
        "#include <map>\n",
        "#include <climits>\n",
        "#include <fstream>\n",
        "#include <set>\n",
        "#include <limits>\n",
        "#include <chrono>\n",
        "#include <mpi.h>\n",
        "\n",
        "using namespace std;\n",
        "using namespace std::chrono;\n",
        "\n",
        "// Function declarations\n",
        "vector<int> LerDestinoDemanda(const string& nomeArquivo, int& numVertices);\n",
        "vector<vector<int>> LerRotasPossiveis(const string& nomeArquivo, int& numVertices);\n",
        "struct Economia;\n",
        "bool compararEconomias(const Economia& a, const Economia& b);\n",
        "int encontrarRota(int node, const vector<vector<int>>& rotas, const vector<vector<int>>& distancias);\n",
        "int calcularCustoRota(const vector<int>& rota, const vector<vector<int>>& distancias);\n",
        "void CombinaRotas(std::vector<Economia> &economias, std::vector<std::vector<int>> &rotas, const std::vector<std::vector<int>> &distancias, const std::vector<int> &demandas, int maxParadas, int capacidade, int rank, int size);\n",
        "void VerificaValida(std::vector<int> &novaRota, const std::vector<std::vector<int>> &distancias, bool &rotaValida, std::vector<std::vector<int>> &rotas, int rotaI, int rotaJ);\n",
        "void CalcCustoTotal(std::vector<std::vector<int>> &rotas, const std::vector<std::vector<int>> &distancias);\n",
        "\n",
        "struct Economia {\n",
        "    int i, j;\n",
        "    double valor;\n",
        "    Economia() = default;\n",
        "    Economia(int i, int j, double valor) : i(i), j(j), valor(valor) {}\n",
        "};\n",
        "\n",
        "bool compararEconomias(const Economia& a, const Economia& b) {\n",
        "    return a.valor > b.valor;\n",
        "}\n",
        "\n",
        "int encontrarRota(int node, const vector<vector<int>>& rotas, const vector<vector<int>>& distancias) {\n",
        "    for (size_t i = 0; i < rotas.size(); ++i) {\n",
        "        auto it = find(rotas[i].begin(), rotas[i].end(), node);\n",
        "        if (it != rotas[i].end()) {\n",
        "            return i;\n",
        "        }\n",
        "    }\n",
        "    return -1;\n",
        "}\n",
        "\n",
        "int calcularCustoRota(const vector<int>& rota, const vector<vector<int>>& distancias) {\n",
        "    int custo = 0;\n",
        "    for (size_t i = 0; i < rota.size() - 1; ++i) {\n",
        "        custo += distancias[rota[i]][rota[i + 1]];\n",
        "    }\n",
        "    return custo;\n",
        "}\n",
        "\n",
        "void CombinaRotas(std::vector<Economia> &economias, std::vector<std::vector<int>> &rotas, const std::vector<std::vector<int>> &distancias, const std::vector<int> &demandas, int maxParadas, int capacidade, int rank, int size) {\n",
        "    vector<Economia> allEconomias;\n",
        "\n",
        "    // Gather all local economias at rank 0\n",
        "    if (rank == 0) {\n",
        "        allEconomias.insert(allEconomias.end(), economias.begin(), economias.end());\n",
        "        for (int i = 1; i < size; ++i) {\n",
        "            int numLocalEconomias;\n",
        "            MPI_Status status;\n",
        "            MPI_Probe(i, 0, MPI_COMM_WORLD, &status);\n",
        "            MPI_Get_count(&status, MPI_BYTE, &numLocalEconomias);\n",
        "            vector<Economia> localEconomias(numLocalEconomias / sizeof(Economia));\n",
        "            MPI_Recv(localEconomias.data(), numLocalEconomias, MPI_BYTE, i, 0, MPI_COMM_WORLD, MPI_STATUS_IGNORE);\n",
        "            allEconomias.insert(allEconomias.end(), localEconomias.begin(), localEconomias.end());\n",
        "        }\n",
        "        sort(allEconomias.begin(), allEconomias.end(), compararEconomias);\n",
        "    } else {\n",
        "        MPI_Send(economias.data(), economias.size() * sizeof(Economia), MPI_BYTE, 0, 0, MPI_COMM_WORLD);\n",
        "    }\n",
        "\n",
        "    // Only rank 0 performs the route combination\n",
        "    if (rank == 0) {\n",
        "        for (const auto &economia : allEconomias) {\n",
        "            int i = economia.i;\n",
        "            int j = economia.j;\n",
        "\n",
        "            int rotaI = encontrarRota(i, rotas, distancias);\n",
        "            int rotaJ = encontrarRota(j, rotas, distancias);\n",
        "\n",
        "            if (rotaI != -1 && rotaJ != -1 && rotaI != rotaJ) {\n",
        "                int demandaTotal = 0;\n",
        "                for (int cliente : rotas[rotaI]) {\n",
        "                    if (cliente != 0) {\n",
        "                        demandaTotal += demandas[cliente];\n",
        "                    }\n",
        "                }\n",
        "                for (int cliente : rotas[rotaJ]) {\n",
        "                    if (cliente != 0) {\n",
        "                        demandaTotal += demandas[cliente];\n",
        "                    }\n",
        "                }\n",
        "\n",
        "                int numParadasRotaI = rotas[rotaI].size() - 2;\n",
        "                int numParadasRotaJ = rotas[rotaJ].size() - 2;\n",
        "                if (numParadasRotaI + numParadasRotaJ > maxParadas) {\n",
        "                    continue;\n",
        "                }\n",
        "\n",
        "                if (demandaTotal <= capacidade) {\n",
        "                    vector<int> novaRota = rotas[rotaI];\n",
        "                    novaRota.pop_back();\n",
        "                    novaRota.insert(novaRota.end(), rotas[rotaJ].begin() + 1, rotas[rotaJ].end());\n",
        "\n",
        "                    bool rotaValida = true;\n",
        "                    VerificaValida(novaRota, distancias, rotaValida, rotas, rotaI, rotaJ);\n",
        "                }\n",
        "            }\n",
        "        }\n",
        "    }\n",
        "\n",
        "    // Broadcast the updated routes to all processes\n",
        "    int numRotas = rotas.size();\n",
        "    MPI_Bcast(&numRotas, 1, MPI_INT, 0, MPI_COMM_WORLD);\n",
        "\n",
        "    if (rank != 0) {\n",
        "        rotas.resize(numRotas);\n",
        "    }\n",
        "\n",
        "    for (int i = 0; i < numRotas; ++i) {\n",
        "        int rotaSize = rotas[i].size();\n",
        "        MPI_Bcast(&rotaSize, 1, MPI_INT, 0, MPI_COMM_WORLD);\n",
        "\n",
        "        if (rank != 0) {\n",
        "            rotas[i].resize(rotaSize);\n",
        "        }\n",
        "\n",
        "        MPI_Bcast(rotas[i].data(), rotaSize, MPI_INT, 0, MPI_COMM_WORLD);\n",
        "    }\n",
        "}\n",
        "\n",
        "void VerificaValida(std::vector<int> &novaRota, const std::vector<std::vector<int>> &distancias, bool &rotaValida, std::vector<std::vector<int>> &rotas, int rotaI, int rotaJ) {\n",
        "    for (size_t k = 0; k < novaRota.size() - 1; ++k) {\n",
        "        if (distancias[novaRota[k]][novaRota[k + 1]] == 0) {\n",
        "            rotaValida = false;\n",
        "            break;\n",
        "        }\n",
        "    }\n",
        "\n",
        "    if (rotaValida) {\n",
        "        rotas[rotaI] = novaRota;\n",
        "        rotas.erase(rotas.begin() + rotaJ);\n",
        "    }\n",
        "}\n",
        "\n",
        "void CalcCustoTotal(std::vector<std::vector<int>> &rotas, const std::vector<std::vector<int>> &distancias) {\n",
        "    int custoTotal = 0;\n",
        "    for (const auto &rota : rotas) {\n",
        "        int custoRota = calcularCustoRota(rota, distancias);\n",
        "        custoTotal += custoRota;\n",
        "    }\n",
        "    cout << \"Custo total: \" << custoTotal << endl;\n",
        "}\n",
        "\n",
        "vector<int> LerDestinoDemanda(const string& nomeArquivo, int& numVertices) {\n",
        "    ifstream arquivo(nomeArquivo);\n",
        "    if (!arquivo.is_open()) {\n",
        "        cerr << \"Erro ao abrir o arquivo \" << nomeArquivo << endl;\n",
        "        exit(1);\n",
        "    }\n",
        "\n",
        "    arquivo >> numVertices;\n",
        "\n",
        "    vector<int> grafo(numVertices, 0);\n",
        "    int destino, demanda;\n",
        "    for (int i = 1; i < numVertices; i++) {\n",
        "        arquivo >> destino >> demanda;\n",
        "        grafo[destino] = demanda;\n",
        "    }\n",
        "    arquivo.close();\n",
        "    return grafo;\n",
        "}\n",
        "\n",
        "vector<vector<int>> LerRotasPossiveis(const string& nomeArquivo, int& numVertices) {\n",
        "    ifstream arquivo(nomeArquivo);\n",
        "    if (!arquivo.is_open()) {\n",
        "        cerr << \"Erro ao abrir o arquivo \" << nomeArquivo << endl;\n",
        "        exit(1);\n",
        "    }\n",
        "    arquivo >> numVertices;\n",
        "\n",
        "    for (int i = 0; i < numVertices-1; i++) {\n",
        "        int x, y;\n",
        "        arquivo >> x >> y;\n",
        "    }\n",
        "\n",
        "    int numRotas;\n",
        "    arquivo >> numRotas;\n",
        "\n",
        "    vector<vector<int>> grafo(numVertices, vector<int>(numVertices, 0));\n",
        "\n",
        "    int origem, destino, custo;\n",
        "    while (arquivo >> origem >> destino >> custo) {\n",
        "        grafo[origem][destino] = custo;\n",
        "    }\n",
        "    arquivo.close();\n",
        "    return grafo;\n",
        "}\n",
        "\n",
        "int main(int argc, char* argv[]) {\n",
        "    MPI_Init(&argc, &argv);\n",
        "\n",
        "    int rank, size;\n",
        "    MPI_Comm_rank(MPI_COMM_WORLD, &rank);\n",
        "    MPI_Comm_size(MPI_COMM_WORLD, &size);\n",
        "\n",
        "    int numVertices;\n",
        "    vector<int> demandas;\n",
        "    vector<vector<int>> distancias;\n",
        "\n",
        "    if (rank == 0) {\n",
        "        char* nomeArquivo = argv[1];\n",
        "        demandas = LerDestinoDemanda(nomeArquivo, numVertices);\n",
        "        distancias = LerRotasPossiveis(nomeArquivo, numVertices);\n",
        "    }\n",
        "\n",
        "    MPI_Bcast(&numVertices, 1, MPI_INT, 0, MPI_COMM_WORLD);\n",
        "\n",
        "    if (rank != 0) {\n",
        "        demandas.resize(numVertices);\n",
        "        distancias.resize(numVertices, vector<int>(numVertices));\n",
        "    }\n",
        "\n",
        "    MPI_Bcast(demandas.data(), numVertices, MPI_INT, 0, MPI_COMM_WORLD);\n",
        "\n",
        "    for (int i = 0; i < numVertices; ++i) {\n",
        "        MPI_Bcast(distancias[i].data(), numVertices, MPI_INT, 0, MPI_COMM_WORLD);\n",
        "    }\n",
        "\n",
        "    int capacidade = 15;\n",
        "    int maxParadas = 5;\n",
        "\n",
        "    auto start = high_resolution_clock::now();\n",
        "\n",
        "    vector<vector<int>> rotas;\n",
        "    for (int i = 1; i < numVertices; ++i) {\n",
        "        rotas.push_back({0, i, 0});\n",
        "    }\n",
        "\n",
        "    vector<Economia> economias;\n",
        "    for (int i = 1; i < numVertices; ++i) {\n",
        "        for (int j = i + 1; j < numVertices; ++j) {\n",
        "            int valor = distancias[0][i] + distancias[0][j] - distancias[i][j];\n",
        "            economias.push_back(Economia(i, j, valor));\n",
        "        }\n",
        "    }\n",
        "\n",
        "    int economiasPerProcess = economias.size() / size;\n",
        "    int remainder = economias.size() % size;\n",
        "    vector<Economia> localEconomias;\n",
        "\n",
        "    if (rank == 0) {\n",
        "        for (int i = 0; i < size; ++i) {\n",
        "            int startIdx = i * economiasPerProcess + min(i, remainder);\n",
        "            int endIdx = startIdx + economiasPerProcess + (i < remainder ? 1 : 0);\n",
        "            if (i == 0) {\n",
        "                localEconomias.insert(localEconomias.end(), economias.begin() + startIdx, economias.begin() + endIdx);\n",
        "            } else {\n",
        "                MPI_Send(economias.data() + startIdx, (endIdx - startIdx) * sizeof(Economia), MPI_BYTE, i, 0, MPI_COMM_WORLD);\n",
        "            }\n",
        "        }\n",
        "    } else {\n",
        "        int numLocalEconomias;\n",
        "        MPI_Status status;\n",
        "        MPI_Probe(0, 0, MPI_COMM_WORLD, &status);\n",
        "        MPI_Get_count(&status, MPI_BYTE, &numLocalEconomias);\n",
        "        localEconomias.resize(numLocalEconomias / sizeof(Economia));\n",
        "        MPI_Recv(localEconomias.data(), numLocalEconomias, MPI_BYTE, 0, 0, MPI_COMM_WORLD, MPI_STATUS_IGNORE);\n",
        "    }\n",
        "\n",
        "    sort(localEconomias.begin(), localEconomias.end(), compararEconomias);\n",
        "\n",
        "    CombinaRotas(localEconomias, rotas, distancias, demandas, maxParadas, capacidade, rank, size);\n",
        "\n",
        "    if (rank == 0) {\n",
        "        CalcCustoTotal(rotas, distancias);\n",
        "    }\n",
        "\n",
        "    auto end = high_resolution_clock::now();\n",
        "    cout << \"Rank \" << rank << \" finished\" << endl;\n",
        "    auto duration = duration_cast<milliseconds>(end - start).count();\n",
        "    if (rank == 0) {\n",
        "        cout << \"Tempo de execução: \" << duration << \" ms\" << endl;\n",
        "    }\n",
        "\n",
        "    MPI_Finalize();\n",
        "    return 0;\n",
        "}"
      ]
    },
    {
      "cell_type": "code",
      "execution_count": null,
      "metadata": {
        "id": "wePkviHRv5my"
      },
      "outputs": [],
      "source": [
        "!mpic++ -g -Wall -o mpiV2 mpiV2.cpp"
      ]
    },
    {
      "cell_type": "code",
      "execution_count": null,
      "metadata": {
        "colab": {
          "base_uri": "https://localhost:8080/"
        },
        "id": "gQ9_R7FAv_gW",
        "outputId": "765afaed-0a2f-47d1-fd92-8d79d07eec69"
      },
      "outputs": [
        {
          "name": "stdout",
          "output_type": "stream",
          "text": [
            "Custo total: 5796\n",
            "Rank 1 finished\n",
            "Rank 0 finished\n",
            "Tempo de execução: 117 ms\n"
          ]
        }
      ],
      "source": [
        "arquivo = \"grafo_100_0.125.txt\"\n",
        "!mpirun --allow-run-as-root --oversubscribe -n 2 ./mpiV2 $arquivo"
      ]
    },
    {
      "cell_type": "code",
      "execution_count": null,
      "metadata": {
        "colab": {
          "base_uri": "https://localhost:8080/"
        },
        "id": "-1ZJNgNBx2gv",
        "outputId": "101e84e9-7914-4dae-e256-cf22c345855f"
      },
      "outputs": [
        {
          "name": "stdout",
          "output_type": "stream",
          "text": [
            "Rank 1 finished\n",
            "Custo total: 25517\n",
            "Rank 0 finished\n",
            "Tempo de execução: 6503 ms\n"
          ]
        }
      ],
      "source": [
        "arquivo = \"grafo_500_0.125.txt\"\n",
        "!mpirun --allow-run-as-root --oversubscribe -n 2 ./mpiV2 $arquivo"
      ]
    },
    {
      "cell_type": "code",
      "execution_count": null,
      "metadata": {
        "colab": {
          "base_uri": "https://localhost:8080/"
        },
        "id": "m2zHwFtox43I",
        "outputId": "c401c894-3ca2-4cca-f5f9-9b43648ccbeb"
      },
      "outputs": [
        {
          "name": "stdout",
          "output_type": "stream",
          "text": [
            "Rank 1 finished\n",
            "Custo total: 48742\n",
            "Rank 0 finished\n",
            "Tempo de execução: 54629 ms\n"
          ]
        }
      ],
      "source": [
        "arquivo = \"grafo_1000_0.125.txt\"\n",
        "!mpirun --allow-run-as-root --oversubscribe -n 2 ./mpiV2 $arquivo"
      ]
    },
    {
      "cell_type": "code",
      "execution_count": null,
      "metadata": {
        "colab": {
          "base_uri": "https://localhost:8080/"
        },
        "id": "x5mlS2Glznmu",
        "outputId": "076364e7-817e-493d-d24e-58bebb3a9abe"
      },
      "outputs": [
        {
          "name": "stdout",
          "output_type": "stream",
          "text": [
            "Rank 1 finished\n",
            "Rank 2 finished\n",
            "Rank 3 finished\n",
            "Custo total: 5685\n",
            "Rank 0 finished\n",
            "Tempo de execução: 117 ms\n"
          ]
        }
      ],
      "source": [
        "arquivo = \"grafo_100_0.125.txt\"\n",
        "!mpirun --allow-run-as-root --oversubscribe -n 4 ./mpiV2 $arquivo"
      ]
    },
    {
      "cell_type": "code",
      "execution_count": null,
      "metadata": {
        "colab": {
          "base_uri": "https://localhost:8080/"
        },
        "id": "aXMsFSbaznhv",
        "outputId": "b7623c9f-3e02-4d26-bf75-b9fae0b97b58"
      },
      "outputs": [
        {
          "name": "stdout",
          "output_type": "stream",
          "text": [
            "Rank 2 finished\n",
            "Rank 3 finished\n",
            "Rank 1 finished\n",
            "Custo total: 25824\n",
            "Rank 0 finished\n",
            "Tempo de execução: 13785 ms\n"
          ]
        }
      ],
      "source": [
        "arquivo = \"grafo_500_0.125.txt\"\n",
        "!mpirun --allow-run-as-root --oversubscribe -n 4 ./mpiV2 $arquivo"
      ]
    },
    {
      "cell_type": "code",
      "execution_count": null,
      "metadata": {
        "colab": {
          "base_uri": "https://localhost:8080/"
        },
        "id": "ODfCKsj5znaV",
        "outputId": "407c722a-5bf9-4fa8-dae6-4f103f146f4a"
      },
      "outputs": [
        {
          "name": "stdout",
          "output_type": "stream",
          "text": [
            "Rank 1 finished\n",
            "Rank 2 finished\n",
            "Rank 3 finished\n",
            "Custo total: 49661\n",
            "Rank 0 finished\n",
            "Tempo de execução: 105807 ms\n"
          ]
        }
      ],
      "source": [
        "arquivo = \"grafo_1000_0.125.txt\"\n",
        "!mpirun --allow-run-as-root --oversubscribe -n 4 ./mpiV2 $arquivo"
      ]
    },
    {
      "cell_type": "markdown",
      "metadata": {
        "id": "72O33KrZbGiS"
      },
      "source": [
        "## Slurm"
      ]
    },
    {
      "cell_type": "code",
      "execution_count": null,
      "metadata": {
        "colab": {
          "base_uri": "https://localhost:8080/"
        },
        "id": "jKYIrIa4bI9i",
        "outputId": "a0cbd048-1ba4-4d9d-ae36-9e05fb7b0156"
      },
      "outputs": [
        {
          "name": "stdout",
          "output_type": "stream",
          "text": [
            "Writing global_parallel.slurm\n"
          ]
        }
      ],
      "source": [
        "%%file global_parallel.slurm\n",
        "\n",
        "#!/bin/bash\n",
        "#SBATCH --job-name=global_parallel\n",
        "#SBATCH --nodes=2\n",
        "#SBATCH --mem=500M\n",
        "#SBATCH --time=00:02:00\n",
        "#SBATCH --partition=espec\n",
        "\n",
        "mpirun ./global_parallel $arquivo"
      ]
    },
    {
      "cell_type": "markdown",
      "metadata": {
        "id": "Xa39mtLtzf_4"
      },
      "source": [
        "## Resultados"
      ]
    },
    {
      "cell_type": "markdown",
      "metadata": {
        "id": "C03kqjnaziv2"
      },
      "source": [
        "\n",
        "### Analise com os dados do cluster\n",
        "\n",
        "#### Dados (obtidos no cluster da disciplina durante a tarde de 03/06/24 e manhã de 05/06/24 utilizando o slurm acima)\n",
        "\n",
        "- Heuristica:\n",
        "\n",
        "100 nós:\n",
        "Custo total: 6431\n",
        "Tempo de execução: 27 ms\n",
        "\n",
        "500 nós:\n",
        "Custo total: 26444\n",
        "Tempo de execução: 2625 ms\n",
        "\n",
        "1000 nós:\n",
        "Custo total: 50208\n",
        "Tempo de execução: 20230 ms\n",
        "\n",
        "- MPI+Heurística:\n",
        "\n",
        "100 nós:\n",
        "Custo total: 5953\n",
        "Tempo de execução: 13 ms\n",
        "\n",
        "500 nós:\n",
        "Custo total: 25249\n",
        "Tempo de execução: 1257 ms\n",
        "\n",
        "1000 nós:\n",
        "Custo total: 48030\n",
        "Tempo de execução: 9719 ms\n",
        "\n",
        "\n",
        "Como é possívele visualizar através dos dados obtidos, a implementação do MPI resultou em uma melhoria significativa no tempo de execução, sendo possível observar uma redução de tempo de execução de até, aproximadamente, 50% em relação a execução da heurística pura.\n",
        "\n",
        "Apesar disso, é possível observar uma pequena diferença entre os resultados obtidos, sendo que a execução do MPI resultou em um custo total um pouco menor que a execução da heurística pura, oque pode ser explicado pela natureza da paralelização, uma vez que o conjunto de dados é divido entre as máquinas e caso o vetor de dados não seja um número divisível pelo número de máquinas, pode ocorrer que algumas máquinas recebam mais dados que outras, resultando em resultados levemente diferentes.\n",
        "\n",
        "Além disso, durante a execução do código em MPI podem ocorrer pequenas variações nos resultados, devido a ordem de execução de operações matemáticas que poem variar de execução para execução, além de problemas de precisão decimal, latência e problemas durante transmissões de dados, que acumuladas podem resultar em impactos mais significativos nos resultados.\n",
        "\n",
        "\n",
        "### Analise com os dados do colab\n",
        "\n",
        "Como é possível observar na seção de execução acima, apesar dos melhores esforços não foi possível obter uma melhoria em relaçõa ao tempo de execução ao compararmos a implementação da heurística pura, com a com adição de MPI, sendo possível notar situações onde inclusive ocorreu piora do tempo.\n",
        "\n",
        "Isso pode ser devido a que no colab a paralelização esta sendo feita no local, ou seja, em diferentes cores da mesma máquina, oque pode resultar em um overhead de comunicação maior que o benefício da paralelização, uma vez que a comunicação entre os processos é feita de maneira mais lenta que a execução do código em si."
      ]
    },
    {
      "cell_type": "markdown",
      "metadata": {
        "id": "q0-S-sJC4MB4"
      },
      "source": []
    }
  ],
  "metadata": {
    "colab": {
      "collapsed_sections": [
        "CqegkP6mGomB",
        "lGmXadh_vSGv",
        "XIk4qF-6fHRz",
        "hF8_McxIgkCT",
        "U7SjGsDUZtxv",
        "cZyXQ4S-aZ_Z",
        "DphvK5BSagop"
      ],
      "provenance": []
    },
    "kernelspec": {
      "display_name": "Python 3",
      "name": "python3"
    },
    "language_info": {
      "codemirror_mode": {
        "name": "ipython",
        "version": 3
      },
      "file_extension": ".py",
      "mimetype": "text/x-python",
      "name": "python",
      "nbconvert_exporter": "python",
      "pygments_lexer": "ipython3",
      "version": "3.11.7"
    }
  },
  "nbformat": 4,
  "nbformat_minor": 0
}
